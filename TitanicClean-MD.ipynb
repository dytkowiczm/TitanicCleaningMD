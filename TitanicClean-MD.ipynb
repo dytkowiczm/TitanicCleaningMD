{
 "cells": [
  {
   "cell_type": "markdown",
   "metadata": {},
   "source": [
    "# Czyszczenie danych i przygotowanie zbioru Titanic do analizy"
   ]
  },
  {
   "cell_type": "markdown",
   "metadata": {},
   "source": [
    "1. Załadowanie zbioru danych Titanic."
   ]
  },
  {
   "cell_type": "code",
   "execution_count": 310,
   "metadata": {},
   "outputs": [],
   "source": [
    "import pandas as pd"
   ]
  },
  {
   "cell_type": "code",
   "execution_count": 311,
   "metadata": {},
   "outputs": [],
   "source": [
    "data = pd.read_csv (\"C:/Users/Laptop/Documents/TitanicMess.tsv\", sep = '\\t')"
   ]
  },
  {
   "cell_type": "markdown",
   "metadata": {},
   "source": [
    "2. Wykonanie funkcji head(), która wyświetla 5 pierwszych wierszy ze zbioru danych."
   ]
  },
  {
   "cell_type": "code",
   "execution_count": 312,
   "metadata": {},
   "outputs": [
    {
     "data": {
      "text/html": [
       "<div>\n",
       "<style scoped>\n",
       "    .dataframe tbody tr th:only-of-type {\n",
       "        vertical-align: middle;\n",
       "    }\n",
       "\n",
       "    .dataframe tbody tr th {\n",
       "        vertical-align: top;\n",
       "    }\n",
       "\n",
       "    .dataframe thead th {\n",
       "        text-align: right;\n",
       "    }\n",
       "</style>\n",
       "<table border=\"1\" class=\"dataframe\">\n",
       "  <thead>\n",
       "    <tr style=\"text-align: right;\">\n",
       "      <th></th>\n",
       "      <th>PassengerId</th>\n",
       "      <th>Survived</th>\n",
       "      <th>Pclass</th>\n",
       "      <th>Name</th>\n",
       "      <th>Sex</th>\n",
       "      <th>Age</th>\n",
       "      <th>SibSp</th>\n",
       "      <th>Parch</th>\n",
       "      <th>Ticket</th>\n",
       "      <th>Fare</th>\n",
       "      <th>Cabin</th>\n",
       "      <th>Embarked</th>\n",
       "      <th>ship</th>\n",
       "    </tr>\n",
       "  </thead>\n",
       "  <tbody>\n",
       "    <tr>\n",
       "      <th>0</th>\n",
       "      <td>1</td>\n",
       "      <td>0</td>\n",
       "      <td>3</td>\n",
       "      <td>Braund, Mr. Owen Harris</td>\n",
       "      <td>male</td>\n",
       "      <td>22</td>\n",
       "      <td>1</td>\n",
       "      <td>0</td>\n",
       "      <td>A/5 21171</td>\n",
       "      <td>7,25</td>\n",
       "      <td>NaN</td>\n",
       "      <td>S</td>\n",
       "      <td>Titanic</td>\n",
       "    </tr>\n",
       "    <tr>\n",
       "      <th>1</th>\n",
       "      <td>2</td>\n",
       "      <td>1</td>\n",
       "      <td>1</td>\n",
       "      <td>Cumings, Mrs. John Bradley (Florence Briggs Th...</td>\n",
       "      <td>female</td>\n",
       "      <td>38</td>\n",
       "      <td>1</td>\n",
       "      <td>0</td>\n",
       "      <td>PC 17599</td>\n",
       "      <td>71,2833</td>\n",
       "      <td>C85</td>\n",
       "      <td>C</td>\n",
       "      <td>Titanic</td>\n",
       "    </tr>\n",
       "    <tr>\n",
       "      <th>2</th>\n",
       "      <td>3</td>\n",
       "      <td>1</td>\n",
       "      <td>3</td>\n",
       "      <td>Heikkinen, Miss. Laina</td>\n",
       "      <td>female</td>\n",
       "      <td>26</td>\n",
       "      <td>0</td>\n",
       "      <td>0</td>\n",
       "      <td>STON/O2. 3101282</td>\n",
       "      <td>7,925</td>\n",
       "      <td>NaN</td>\n",
       "      <td>S</td>\n",
       "      <td>Titanic</td>\n",
       "    </tr>\n",
       "    <tr>\n",
       "      <th>3</th>\n",
       "      <td>4</td>\n",
       "      <td>1</td>\n",
       "      <td>1</td>\n",
       "      <td>Futrelle, Mrs. Jacques Heath (Lily May Peel)</td>\n",
       "      <td>female</td>\n",
       "      <td>35</td>\n",
       "      <td>1</td>\n",
       "      <td>0</td>\n",
       "      <td>113803</td>\n",
       "      <td>53,1</td>\n",
       "      <td>C123</td>\n",
       "      <td>S</td>\n",
       "      <td>Titanic</td>\n",
       "    </tr>\n",
       "    <tr>\n",
       "      <th>4</th>\n",
       "      <td>5</td>\n",
       "      <td>0</td>\n",
       "      <td>3</td>\n",
       "      <td>Allen, Mr. William Henry</td>\n",
       "      <td>male</td>\n",
       "      <td>35</td>\n",
       "      <td>0</td>\n",
       "      <td>0</td>\n",
       "      <td>373450</td>\n",
       "      <td>8,05</td>\n",
       "      <td>NaN</td>\n",
       "      <td>S</td>\n",
       "      <td>Titanic</td>\n",
       "    </tr>\n",
       "  </tbody>\n",
       "</table>\n",
       "</div>"
      ],
      "text/plain": [
       "   PassengerId  Survived  Pclass  \\\n",
       "0            1         0       3   \n",
       "1            2         1       1   \n",
       "2            3         1       3   \n",
       "3            4         1       1   \n",
       "4            5         0       3   \n",
       "\n",
       "                                                Name     Sex Age  SibSp  \\\n",
       "0                            Braund, Mr. Owen Harris    male  22      1   \n",
       "1  Cumings, Mrs. John Bradley (Florence Briggs Th...  female  38      1   \n",
       "2                             Heikkinen, Miss. Laina  female  26      0   \n",
       "3       Futrelle, Mrs. Jacques Heath (Lily May Peel)  female  35      1   \n",
       "4                           Allen, Mr. William Henry    male  35      0   \n",
       "\n",
       "   Parch            Ticket     Fare Cabin Embarked     ship  \n",
       "0      0         A/5 21171     7,25   NaN        S  Titanic  \n",
       "1      0          PC 17599  71,2833   C85        C  Titanic  \n",
       "2      0  STON/O2. 3101282    7,925   NaN        S  Titanic  \n",
       "3      0            113803     53,1  C123        S  Titanic  \n",
       "4      0            373450     8,05   NaN        S  Titanic  "
      ]
     },
     "execution_count": 312,
     "metadata": {},
     "output_type": "execute_result"
    }
   ],
   "source": [
    "data.head()"
   ]
  },
  {
   "cell_type": "markdown",
   "metadata": {},
   "source": [
    "Analizując zbiór danych Titanic możemy wyróżnić następujące nazwy kolumn:\n",
    "PassengerId - unikalny identyfikator,\n",
    "Survived - pasażer przeżył(1) bądź zmarł(0),\n",
    "Pclass - klasa, w której podróżował pasażer, możliwe wartości to: 1, 2, 3,\n",
    "Name - imię pasażera,\n",
    "Sex - płeć pasażera,\n",
    "Age - wiek pasażera,\n",
    "SibSp - liczba rodzeństwa lub obecność małżonka,\n",
    "Parch - liczba rodziców lub dzieci,\n",
    "Ticket - numer biletu,\n",
    "Fare - cena biletu,\n",
    "Cabin - numer kabiny,\n",
    "Embarked - port wypłynięcia pasażera, możliwe wartości to: C = Cherbourg; Q = Queenstown; S = Southampton,\n",
    "ship - nazwa statku."
   ]
  },
  {
   "cell_type": "markdown",
   "metadata": {},
   "source": [
    "3. Użycie funkcji info() do wyświetlenia informacji o formacie danych."
   ]
  },
  {
   "cell_type": "code",
   "execution_count": 313,
   "metadata": {},
   "outputs": [
    {
     "name": "stdout",
     "output_type": "stream",
     "text": [
      "<class 'pandas.core.frame.DataFrame'>\n",
      "RangeIndex: 892 entries, 0 to 891\n",
      "Data columns (total 13 columns):\n",
      " #   Column       Non-Null Count  Dtype \n",
      "---  ------       --------------  ----- \n",
      " 0   PassengerId  892 non-null    int64 \n",
      " 1   Survived     892 non-null    int64 \n",
      " 2   Pclass       892 non-null    int64 \n",
      " 3   Name         892 non-null    object\n",
      " 4   Sex          892 non-null    object\n",
      " 5   Age          719 non-null    object\n",
      " 6   SibSp        892 non-null    int64 \n",
      " 7   Parch        892 non-null    int64 \n",
      " 8   Ticket       892 non-null    object\n",
      " 9   Fare         892 non-null    object\n",
      " 10  Cabin        207 non-null    object\n",
      " 11  Embarked     890 non-null    object\n",
      " 12  ship         892 non-null    object\n",
      "dtypes: int64(5), object(8)\n",
      "memory usage: 90.7+ KB\n"
     ]
    }
   ],
   "source": [
    "data.info()"
   ]
  },
  {
   "cell_type": "markdown",
   "metadata": {},
   "source": [
    "Z powyższego zestawienia możemy zobaczyć, że w zbiorze danych znajdują się 892 rekordy. Jako pierwsze rzuca nam się wystąpienie wartości pustych w kolumnie Age, Cabin oraz Embarked. "
   ]
  },
  {
   "cell_type": "markdown",
   "metadata": {},
   "source": [
    "4. Dane brakujące."
   ]
  },
  {
   "cell_type": "code",
   "execution_count": 314,
   "metadata": {},
   "outputs": [
    {
     "data": {
      "text/plain": [
       "173"
      ]
     },
     "execution_count": 314,
     "metadata": {},
     "output_type": "execute_result"
    }
   ],
   "source": [
    "data['Age'].isnull().sum()"
   ]
  },
  {
   "cell_type": "code",
   "execution_count": 315,
   "metadata": {},
   "outputs": [
    {
     "data": {
      "text/plain": [
       "685"
      ]
     },
     "execution_count": 315,
     "metadata": {},
     "output_type": "execute_result"
    }
   ],
   "source": [
    "data['Cabin'].isnull().sum()"
   ]
  },
  {
   "cell_type": "code",
   "execution_count": 316,
   "metadata": {},
   "outputs": [
    {
     "data": {
      "text/plain": [
       "2"
      ]
     },
     "execution_count": 316,
     "metadata": {},
     "output_type": "execute_result"
    }
   ],
   "source": [
    "data['Embarked'].isnull().sum()"
   ]
  },
  {
   "cell_type": "markdown",
   "metadata": {},
   "source": [
    "Dzięki powyższym funkcją dowiedzieliśmy się o konkretnej liczbie brakujących wartości w poprzednio wskazanych kolumnach. Ponieważ brakujących wartości w kolumnie \"Embarked\" jest zaledwie 0,2% to zdecydujemy się na usunięcie tych wierszy. Kolumna \"Cabin\" nie dostarcza nam żadnej pożytecznej wiedzy, posiada aż 76% wartości pustych, dlatego decydujemy się na jej całkowite usunięcie, ponieważ jest bezużyteczna i wpłynie na każdy model uczenia maszynowego. Jeśli chodzi o kolumnę \"Age\" usunięcie wartości pustych oraz inne rozwiązania problemów zostaną opisane poniżej. Dodatkowo zostanie przez nas usunięta cała kolumna \"ship\", ponieważ nie spełnia ona żadnej ważnej roli w zbiorze."
   ]
  },
  {
   "cell_type": "code",
   "execution_count": 317,
   "metadata": {},
   "outputs": [],
   "source": [
    "data = data.dropna(subset=['Embarked']) #usunięcie pustych wierszy z kolumny Embarked"
   ]
  },
  {
   "cell_type": "code",
   "execution_count": 318,
   "metadata": {
    "scrolled": true
   },
   "outputs": [
    {
     "data": {
      "text/plain": [
       "False"
      ]
     },
     "execution_count": 318,
     "metadata": {},
     "output_type": "execute_result"
    }
   ],
   "source": [
    "data['Embarked'].isnull().values.any() #sprawdzenie czy kolumna Embarked posiada wartości puste"
   ]
  },
  {
   "cell_type": "code",
   "execution_count": 319,
   "metadata": {},
   "outputs": [],
   "source": [
    "data = data.drop('Cabin', 1) #usunięcie całej kolumny Cabin"
   ]
  },
  {
   "cell_type": "code",
   "execution_count": 320,
   "metadata": {},
   "outputs": [],
   "source": [
    "data = data.drop('ship', 1) #usunięcie całej kolumny ship"
   ]
  },
  {
   "cell_type": "code",
   "execution_count": 321,
   "metadata": {},
   "outputs": [
    {
     "name": "stdout",
     "output_type": "stream",
     "text": [
      "<class 'pandas.core.frame.DataFrame'>\n",
      "Int64Index: 890 entries, 0 to 891\n",
      "Data columns (total 11 columns):\n",
      " #   Column       Non-Null Count  Dtype \n",
      "---  ------       --------------  ----- \n",
      " 0   PassengerId  890 non-null    int64 \n",
      " 1   Survived     890 non-null    int64 \n",
      " 2   Pclass       890 non-null    int64 \n",
      " 3   Name         890 non-null    object\n",
      " 4   Sex          890 non-null    object\n",
      " 5   Age          717 non-null    object\n",
      " 6   SibSp        890 non-null    int64 \n",
      " 7   Parch        890 non-null    int64 \n",
      " 8   Ticket       890 non-null    object\n",
      " 9   Fare         890 non-null    object\n",
      " 10  Embarked     890 non-null    object\n",
      "dtypes: int64(5), object(6)\n",
      "memory usage: 83.4+ KB\n"
     ]
    }
   ],
   "source": [
    "data.info()"
   ]
  },
  {
   "cell_type": "markdown",
   "metadata": {},
   "source": [
    "5. Przejrzenie wartości w danych kolumnach."
   ]
  },
  {
   "cell_type": "code",
   "execution_count": 322,
   "metadata": {},
   "outputs": [
    {
     "data": {
      "text/plain": [
       "array([0, 1], dtype=int64)"
      ]
     },
     "execution_count": 322,
     "metadata": {},
     "output_type": "execute_result"
    }
   ],
   "source": [
    "data['Survived'].unique()"
   ]
  },
  {
   "cell_type": "code",
   "execution_count": 323,
   "metadata": {},
   "outputs": [
    {
     "data": {
      "text/plain": [
       "array([3, 1, 2], dtype=int64)"
      ]
     },
     "execution_count": 323,
     "metadata": {},
     "output_type": "execute_result"
    }
   ],
   "source": [
    "data['Pclass'].unique()"
   ]
  },
  {
   "cell_type": "code",
   "execution_count": 324,
   "metadata": {},
   "outputs": [
    {
     "data": {
      "text/plain": [
       "array(['Braund, Mr. Owen Harris',\n",
       "       'Cumings, Mrs. John Bradley (Florence Briggs Thayer)',\n",
       "       'Heikkinen, Miss. Laina',\n",
       "       'Futrelle, Mrs. Jacques Heath (Lily May Peel)',\n",
       "       'Allen, Mr. William Henry', 'Moran, Mr. James',\n",
       "       'McCarthy, Mr. Timothy J', 'Palsson, Master. Gosta Leonard',\n",
       "       'Johnson, Mrs. Oscar W (Elisabeth Vilhelmina Berg)',\n",
       "       'Nasser, Mrs. Nicholas (Adele Achem)',\n",
       "       'Sandstrom, Miss. Marguerite Ru&5$$', 'Bonnell, Miss. Elizabeth',\n",
       "       'Saundercock, Mr. William Henry',\n",
       "       'Vestrom, Miss. Hulda Amanda Adolfina',\n",
       "       'Hewlett, Mrs. (Mary D Kingcome)', 'Rice, Master. Eugene',\n",
       "       'Williams, Mr. Charles Eugene',\n",
       "       'Vander Planke, Mrs. Julius (Emelia Maria Vandemoortele)',\n",
       "       'Masselmani, Mrs. Fatima', 'Fynney, Mr. Joseph J',\n",
       "       'Beesley, Mr. Lawrence', 'McGowan, Miss. Anna \"Annie\"',\n",
       "       'Palsson, Miss. Torborg Danira',\n",
       "       'Asplund, Mrs. Carl Oscar (Selma Augusta Emilia Johansson)',\n",
       "       'Emir, Mr. Farred Chehab', 'Fortune, Mr. Charles Alexander',\n",
       "       'O\\'Dwyer, Miss. Ellen \"Nellie\"', 'Todoroff, Mr. Lalio',\n",
       "       'Uruchurtu, Don. Manuel E',\n",
       "       'Spencer, Mrs. William Augustus (Marie Eugenie)',\n",
       "       'Glynn, Miss. Mary Agatha', 'Wheadon, Mr. Edward H',\n",
       "       'Meyer, Mr. Edgar Joseph', 'Holverson, Mr. Alexander Oskar',\n",
       "       'Mamee, Mr. Hanna', 'Cann, Mr. Ernest Charles',\n",
       "       'Vander Planke, Miss. Augusta Maria',\n",
       "       'Nicola-Yarred, Miss. Jamila',\n",
       "       'Ahlin, Mrs. Johan (Johanna Persdotter Larsson)',\n",
       "       'Turpin, Mrs. William John Robert (Dorothy Ann Wonnacott)',\n",
       "       'Kraeff, Mr. Theodor', 'Laroche, Miss. Simonne Marie Anne Andree',\n",
       "       'Devaney, Miss. Margaret Delia', 'Rogers, Mr. William John',\n",
       "       'Lennon, Mr. Denis', \"O'Driscoll, Miss. Bridget\",\n",
       "       'Samaan, Mr. Youssef',\n",
       "       'Arnold-Franchi, Mrs. Josef (Josefine Franchi)',\n",
       "       'Panula, Master. Juha Niilo', 'Nosworthy, Mr. Richard Cater',\n",
       "       'Harper, Mrs. Henry Sleeper (Myna Haxtun)',\n",
       "       'Faunthorpe, Mrs. Lizzie (Elizabeth Anne Wilkinson)',\n",
       "       'Ostby, Mr. Engelhart Cornelius', 'Woolner, Mr. Hugh',\n",
       "       'Rugg, Miss. Emily', 'Novel, Mr. Mansouer',\n",
       "       'West, Miss. Constance Mirium',\n",
       "       'Goodwin, Master. William Frederick', 'Sirayanian, Mr. Orsen',\n",
       "       'Harris, Mr. Henry Birkhardt', 'Skoog, Master. Harald',\n",
       "       'Stewart, Mr. Albert A', 'Moubarek, Master. Gerios',\n",
       "       'Nye, Mrs. (Elizabeth Ramell)', 'Crease, Mr. Ernest James',\n",
       "       'Andersson, Miss. Erna Alexandra', 'Kink, Mr. Vincenz',\n",
       "       'Jenkin, Mr. Stephen Curnow', 'Goodwin, Miss. Lillian Amy',\n",
       "       'Hood, Mr. Ambrose Jr', 'Chronopoulos, Mr. Apostolos',\n",
       "       'Bing, Mr. Lee', 'Moen, Mr. Sigurd Hansen', 'Staneff, Mr. Ivan',\n",
       "       'Moutal, Mr. Rahamin Haim', 'Caldwell, Master. Alden Gates',\n",
       "       'Dowdell, Miss. Elizabeth', 'Waelens, Mr. Achille',\n",
       "       'Sheerlinck, Mr. Jan Baptist', 'McDermott, Miss. Brigdet Delia',\n",
       "       'Carrau, Mr. Francisco M', 'Ilett, Miss. Bertha',\n",
       "       'Backstrom, Mrs. Karl Alfred (Maria Mathilda Gustafsson)',\n",
       "       'Ford, Mr. William Neal', 'Slocovski, Mr. Selman Francis',\n",
       "       'Fortune, Miss. Mabel Helen', 'Celotti, Mr. Francesco',\n",
       "       'Christmann, Mr. Emil', 'Andreasson, Mr. Paul Edvin',\n",
       "       'Chaffee, Mr. Herbert Fuller', 'Dean, Mr. Bertram Frank',\n",
       "       'Coxon, Mr. Daniel', 'Shorney, Mr. Charles Joseph',\n",
       "       'Goldschmidt, Mr. George B', 'Greenfield, Mr. William Bertram',\n",
       "       'Doling, Mrs. John T (Ada Julia Bone)', 'Kantor, Mr. Sinai',\n",
       "       'Petranec, Miss. Matilda', 'Petroff, Mr. Pastcho (\"Pentcho\")',\n",
       "       'White, Mr. Richard Frasar', 'Johansson, Mr. Gustaf Joel',\n",
       "       'Gustafsson, Mr. Anders Vilhelm', 'Mionoff, Mr. Stoytcho',\n",
       "       'Salkjelsvik, Miss. Anna Kristine', 'Moss, Mr. Albert Johan',\n",
       "       'Rekic, Mr. Tido', 'Moran, Miss. Bertha',\n",
       "       'Porter, Mr. Walter Chamberlain', 'Zabour, Miss. Hileni',\n",
       "       'Barton, Mr. David John', 'Jussila, Miss. Katriina',\n",
       "       'Attalah, Miss. Malake', 'Pekoniemi, Mr. Edvard',\n",
       "       'Connors, Mr. Patrick', 'Turpin, Mr. William John Robert',\n",
       "       'Baxter, Mr. Quigg Edmond', 'Andersson, Miss. Ellis Anna Maria',\n",
       "       'Hickman, Mr. Stanley George', 'Moore, Mr. Leonard Charles',\n",
       "       'Nasser, Mr. Nicholas', 'Webber, Miss. Susan',\n",
       "       'White, Mr. Percival Wayland', 'Nicola-Yarred, Master. Elias',\n",
       "       'McMahon, Mr. Martin', 'Madsen, Mr. Fridtjof Arne',\n",
       "       'Peter, Miss. Anna', 'Ekstrom, Mr. Johan', 'Drazenoic, Mr. Jozef',\n",
       "       'Coelho, Mr. Domingos Fernandeo',\n",
       "       'Robins, Mrs. Alexander A (Grace Charity Laury)',\n",
       "       'Weisz, Mrs. Leopold (Mathilde Francoise Pede)',\n",
       "       'Sobey, Mr. Samuel James Hayden', 'Richard, Mr. Emile',\n",
       "       'Newsom, Miss. Helen Monypeny', 'Futrelle, Mr. Jacques Heath',\n",
       "       'Osen, Mr. Olaf Elon', 'Giglio, Mr. Victor',\n",
       "       'Boulos, Mrs. Joseph (Sultana)', 'Nysten, Miss. Anna Sofia',\n",
       "       'Hakkarainen, Mrs. Pekka Pietari (Elin Matilda Dolck)',\n",
       "       'Burke, Mr. Jeremiah', 'Andrew, Mr. Edgardo Samuel',\n",
       "       'Nicholls, Mr. Joseph Charles',\n",
       "       'Andersson, Mr. August Edvard (\"Wennerstrom\")',\n",
       "       'Ford, Miss. Robina Maggie \"Ruby\"',\n",
       "       'Navratil, Mr. Michel (\"Louis M Hoffman\")',\n",
       "       'Byles, Rev. Thomas Roussel Davids', 'Bateman, Rev. Robert James',\n",
       "       'Pears, Mrs. Thomas (Edith Wearne)', 'Meo, Mr. Alfonzo',\n",
       "       'van Billiard, Mr. Austin Blyler', 'Olsen, Mr. Ole Martin',\n",
       "       'Williams, Mr. Charles Duane', 'Gilnagh, Miss. Katherine \"Katie\"',\n",
       "       'Corn, Mr. Harry', 'Smiljanic, Mr. Mile',\n",
       "       'Sage, Master. Thomas Henry', 'Cribb, Mr. John Hatfield',\n",
       "       'Watt, Mrs. James (Elizabeth \"Bessie\" Inglis Milne)',\n",
       "       'Bengtsson, Mr. John Viktor', 'Calic, Mr. Jovo',\n",
       "       'Panula, Master. Eino Viljami',\n",
       "       'Goldsmith, Master. Frank John William \"Frankie\"',\n",
       "       'Chibnall, Mrs. (Edith Martha Bowerman)',\n",
       "       'Skoog, Mrs. William (Anna Bernhardina Karlsson)',\n",
       "       'Baumann, Mr. John D', 'Ling, Mr. Lee',\n",
       "       'Van der hoef, Mr. Wyckoff', 'Rice, Master. Arthur',\n",
       "       'Johnson, Miss. Eleanor Ileen', 'Sivola, Mr. Antti Wilhelm',\n",
       "       'Smith, Mr. James Clinch', 'Klasen, Mr. Klas Albin',\n",
       "       'Lefebre, Master. Henry Forbes', 'Isham, Miss. Ann Elizabeth',\n",
       "       'Hale, Mr. Reginald', 'Leonard, Mr. Lionel',\n",
       "       'Sage, Miss. Constance Gladys', 'Pernot, Mr. Rene',\n",
       "       'Asplund, Master. Clarence Gustaf Hugo',\n",
       "       'Becker, Master. Richard F', 'Kink-Heilmann, Miss. Luise Gretchen',\n",
       "       'Rood, Mr. Hugh Roscoe',\n",
       "       'O\\'Brien, Mrs. Thomas (Johanna \"Hannah\" Godfrey)',\n",
       "       'Romaine, Mr. Charles Hallace (\"Mr C Rolmane\")',\n",
       "       'Bourke, Mr. John', 'Turcin, Mr. Stjepan', 'Pinsky, Mrs. (Rosa)',\n",
       "       'Carbines, Mr. William',\n",
       "       'Andersen-Jensen, Miss. Carla Christine Nielsine',\n",
       "       'Navratil, Master. Michel M',\n",
       "       'Brown, Mrs. James Joseph (Margaret Tobin)',\n",
       "       'Lurette, Miss. Elise', 'Mernagh, Mr. Robert',\n",
       "       'Olsen, Mr. Karl Siegwart Andreas',\n",
       "       'Madigan, Miss. Margaret \"Maggie\"',\n",
       "       'Yrois, Miss. Henriette (\"Mrs Harbeck\")',\n",
       "       'Vande Walle, Mr. Nestor Cyriel', 'Sage, Mr. Frederick',\n",
       "       'Johanson, Mr. Jakob Alfred', 'Youseff, Mr. Gerious',\n",
       "       'Cohen, Mr. Gurshon \"Gus\"', 'Strom, Miss. Telma Matilda',\n",
       "       'Backstrom, Mr. Karl Alfred', 'Albimona, Mr. Nassef Cassem',\n",
       "       'Carr, Miss. Helen \"Ellen\"', 'Blank, Mr. Henry', 'Ali, Mr. Ahmed',\n",
       "       'Cameron, Miss. Clear Annie', 'Perkin, Mr. John Henry',\n",
       "       'Givard, Mr. Hans Kristensen', 'Kiernan, Mr. Philip',\n",
       "       'Newell, Miss. Madeleine', 'Honkanen, Miss. Eliina',\n",
       "       'Jacobsohn, Mr. Sidney Samuel', 'Bazzani, Miss. Albina',\n",
       "       'Harris, Mr. Walter', 'Sunderland, Mr. Victor Francis',\n",
       "       'Bracken, Mr. James H', 'Green, Mr. George Henry',\n",
       "       'Nenkoff, Mr. Christo', 'Hoyt, Mr. Frederick Maxfield',\n",
       "       'Berglund, Mr. Karl Ivar Sven', 'Mellors, Mr. William John',\n",
       "       'Lovell, Mr. John Hall (\"Henry\")', 'Fahlstrom, Mr. Arne Jonas',\n",
       "       'Lefebre, Miss. Mathilde',\n",
       "       'Harris, Mrs. Henry Birkhardt (Irene Wallach)',\n",
       "       'Larsson, Mr. Bengt Edvin', 'Sjostedt, Mr. Ernst Adolf',\n",
       "       'Asplund, Miss. Lillian Gertrud',\n",
       "       'Leyson, Mr. Robert William Norman',\n",
       "       'Harknett, Miss. Alice Phoebe', 'Hold, Mr. Stephen',\n",
       "       'Collyer, Miss. Marjorie \"Lottie\"',\n",
       "       'Pengelly, Mr. Frederick William', 'Hunt, Mr. George Henry',\n",
       "       'Zabour, Miss. Thamine', 'Murphy, Miss. Katherine \"Kate\"',\n",
       "       'Coleridge, Mr. Reginald Charles', 'Maenpaa, Mr. Matti Alexanteri',\n",
       "       'Attalah, Mr. Sleiman', 'Minahan, Dr. William Edward',\n",
       "       'Lindahl, Miss. Agda Thorilda Viktoria',\n",
       "       'Hamalainen, Mrs. William (Anna)', 'Beckwith, Mr. Richard Leonard',\n",
       "       'Carter, Rev. Ernest Courtenay', 'Reed, Mr. James George',\n",
       "       'Strom, Mrs. Wilhelm (Elna Matilda Persson)',\n",
       "       'Stead, Mr. William Thomas', 'Lobb, Mr. William Arthur',\n",
       "       'Rosblom, Mrs. Viktor (Helena Wilhelmina)',\n",
       "       'Touma, Mrs. Darwis (Hanne Youssef Razi)',\n",
       "       'Thorne, Mrs. Gertrude Maybelle', 'Cherry, Miss. Gladys',\n",
       "       'Ward, Miss. Anna', 'Parrish, Mrs. (Lutie Davis)',\n",
       "       'Smith, Mr. Thomas', 'Asplund, Master. Edvin Rojj Felix',\n",
       "       'Taussig, Mr. Emil', 'Harrison, Mr. William', 'Henry, Miss. Delia',\n",
       "       'Reeves, Mr. David', 'Panula, Mr. Ernesti Arvid',\n",
       "       'Persson, Mr. Ernst Ulrik',\n",
       "       'Graham, Mrs. William Thompson (Edith Junkins)',\n",
       "       'Bissette, Miss. Amelia', 'Cairns, Mr. Alexander',\n",
       "       'Tornquist, Mr. William Henry',\n",
       "       'Mellinger, Mrs. (Elizabeth Anne Maidment)',\n",
       "       'Natsch, Mr. Charles H', 'Healy, Miss. Hanora \"Nora\"',\n",
       "       'Andrews, Miss. Kornelia Theodosia',\n",
       "       'Lindblom, Miss. Augusta Charlotta', 'Parkes, Mr. Francis \"Frank\"',\n",
       "       'Rice, Master. Eric', 'Abbott, Mrs. Stanton (Rosa Hunt)',\n",
       "       'Duane, Mr. Frank', 'Olsson, Mr. Nils Johan Goransson',\n",
       "       'de Pelsmaeker, Mr. Alfons', 'Dorking, Mr. Edward Arthur',\n",
       "       'Smith, Mr. Richard William', 'Stankovic, Mr. Ivan',\n",
       "       'de Mulder, Mr. Theodore', 'Naidenoff, Mr. Penko',\n",
       "       'Hosono, Mr. Masabumi', 'Connolly, Miss. Kate',\n",
       "       'Barber, Miss. Ellen \"Nellie\"',\n",
       "       'Bishop, Mrs. Dickinson H (Helen Walton)',\n",
       "       'Levy, Mr. Rene Jacques', 'Haas, Miss. Aloisia',\n",
       "       'Mineff, Mr. Ivan', 'Lewy, Mr. Ervin G', 'Hanna, Mr. Mansour',\n",
       "       'Allison, Miss. Helen Loraine', 'Saalfeld, Mr. Adolphe',\n",
       "       'Baxter, Mrs. James (Helene DeLaudeniere Chaput)',\n",
       "       'Kelly, Miss. Anna Katherine \"Annie Kate\"', 'McCoy, Mr. Bernard',\n",
       "       'Johnson, Mr. William Cahoone Jr', 'Keane, Miss. Nora A',\n",
       "       'Williams, Mr. Howard Hugh \"Harry\"',\n",
       "       'Allison, Master. Hudson Trevor', 'Fleming, Miss. Margaret',\n",
       "       'Penasco y Castellana, Mrs. Victor de Satode (Maria Josefa Perez de Soto y Vallejo)',\n",
       "       'Abelson, Mr. Samuel', 'Francatelli, Miss. Laura Mabel',\n",
       "       'Hays, Miss. Margaret Bechstein', 'Ryerson, Miss. Emily Borie',\n",
       "       'Lahtinen, Mrs. William (Anna Sylfven)', 'Hendekovic, Mr. Ignjac',\n",
       "       'Hart, Mr. Benjamin', 'Nilsson, Miss. Helmina Josefina',\n",
       "       'Kantor, Mrs. Sinai (Miriam Sternin)', 'Moraweck, Dr. Ernest',\n",
       "       'Wick, Miss. Mary Natalie',\n",
       "       'Spedden, Mrs. Frederic Oakley (Margaretta Corning Stone)',\n",
       "       'Dennis, Mr. Samuel', 'Danoff, Mr. Yoto',\n",
       "       'Slayter, Miss. Hilda Mary',\n",
       "       'Caldwell, Mrs. Albert Francis (Sylvia Mae Harbaugh)',\n",
       "       'Sage, Mr. George John Jr', 'Young, Miss. Marie Grice',\n",
       "       'Nysveen, Mr. Johan Hansen', 'Ball, Mrs. (Ada E Hall)',\n",
       "       'Goldsmith, Mrs. Frank John (Emily Alice Brown)',\n",
       "       'Hippach, Miss. Jean Gertrude', 'McCoy, Miss. Agnes',\n",
       "       'Partner, Mr. Austen', 'Graham, Mr. George Edward',\n",
       "       'Vander Planke, Mr. Leo Edmondus',\n",
       "       'Frauenthal, Mrs. Henry William (Clara Heinsheimer)',\n",
       "       'Denkoff, Mr. Mitto', 'Pears, Mr. Thomas Clinton',\n",
       "       'Burns, Miss. Elizabeth Margaret', 'Dahl, Mr. Karl Edwart',\n",
       "       'Blackwell, Mr. Stephen Weart', 'Navratil, Master. Edmond Roger',\n",
       "       'Fortune, Miss. Alice Elizabeth', 'Collander, Mr. Erik Gustaf',\n",
       "       'Sedgwick, Mr. Charles Frederick Waddington',\n",
       "       'Fox, Mr. Stanley Hubert', 'Brown, Miss. Amelia \"Mildred\"',\n",
       "       'Smith, Miss. Marion Elsie',\n",
       "       'Davison, Mrs. Thomas Henry (Mary E Finck)',\n",
       "       'Coutts, Master. William Loch \"William\"', 'Dimic, Mr. Jovan',\n",
       "       'Odahl, Mr. Nils Martin', 'Williams-Lambert, Mr. Fletcher Fellows',\n",
       "       'Elias, Mr. Tannous', 'Arnold-Franchi, Mr. Josef',\n",
       "       'Yousif, Mr. Wazli', 'Vanden Steen, Mr. Leo Peter',\n",
       "       'Bowerman, Miss. Elsie Edith', 'Funk, Miss. Annie Clemmer',\n",
       "       'McGovern, Miss. Mary', 'Mockler, Miss. Helen Mary \"Ellie\"',\n",
       "       'Skoog, Mr. Wilhelm', 'del Carlo, Mr. Sebastiano',\n",
       "       'Barbara, Mrs. (Catherine David)', 'Asim, Mr. Adola',\n",
       "       \"O'Brien, Mr. Thomas\", 'Adahl, Mr. Mauritz Nils Martin',\n",
       "       'Warren, Mrs. Frank Manley (Anna Sophia Atkinson)',\n",
       "       'Moussa, Mrs. (Mantoura Boulos)', 'Jermyn, Miss. Annie',\n",
       "       'Aubart, Mme. Leontine Pauline', 'Harder, Mr. George Achilles',\n",
       "       'Wiklund, Mr. Jakob Alfred', 'Beavan, Mr. William Thomas',\n",
       "       'Ringhini, Mr. Sante', 'Palsson, Miss. Stina Viola',\n",
       "       'Meyer, Mrs. Edgar Joseph (Leila Saks)',\n",
       "       'Landergren, Miss. Aurora Adelia', 'Widener, Mr. Harry Elkins',\n",
       "       'Betros, Mr. Tannous', 'Gustafsson, Mr. Karl Gideon',\n",
       "       'Bidois, Miss. Rosalie', 'Nakid, Miss. Maria (\"Mary\")',\n",
       "       'Tikkanen, Mr. Juho',\n",
       "       'Holverson, Mrs. Alexander Oskar (Mary Aline Towner)',\n",
       "       'Plotcharsky, Mr. Vasil', 'Davies, Mr. Charles Henry',\n",
       "       'Goodwin, Master. Sidney Leonard', 'Buss, Miss. Kate',\n",
       "       'Sadlier, Mr. Matthew', 'Lehmann, Miss. Bertha',\n",
       "       'Carter, Mr. William Ernest', 'Jansson, Mr. Carl Olof',\n",
       "       'Gustafsson, Mr. Johan Birger', 'Newell, Miss. Marjorie',\n",
       "       'Sandstrom, Mrs. Hjalmar (Agnes Charlotta Bengtsson)',\n",
       "       'Johansson, Mr. Erik', 'Olsson, Miss. Elina',\n",
       "       'McKane, Mr. Peter David', 'Pain, Dr. Alfred',\n",
       "       'Trout, Mrs. William H (Jessie L)', 'Niskanen, Mr. Juha',\n",
       "       'Adams, Mr. John', 'Jussila, Miss. Mari Aina',\n",
       "       'Hakkarainen, Mr. Pekka Pietari', 'Oreskovic, Miss. Marija',\n",
       "       'Gale, Mr. Shadrach', 'Widegren, Mr. Carl/Charles Peter',\n",
       "       'Richards, Master. William Rowe',\n",
       "       'Birkeland, Mr. Hans Martin Monsen', 'Lefebre, Miss. Ida',\n",
       "       'Sdycoff, Mr. Todor', 'Hart, Mr. Henry', 'Minahan, Miss. Daisy E',\n",
       "       'Cunningham, Mr. Alfred Fleming', 'Sundman, Mr. Johan Julian',\n",
       "       'Meek, Mrs. Thomas (Annie Louise Rowley)',\n",
       "       'Drew, Mrs. James Vivian (Lulu Thorne Christian)',\n",
       "       'Silven, Miss. Lyyli Karoliina', 'Matthews, Mr. William John',\n",
       "       'Van Impe, Miss. Catharina', 'Gheorgheff, Mr. Stanio',\n",
       "       'Charters, Mr. David', 'Zimmerman, Mr. Leo',\n",
       "       'Danbom, Mrs. Ernst Gilbert (Anna Sigrid Maria Brogren)',\n",
       "       'Rosblom, Mr. Viktor Richard', 'Wiseman, Mr. Phillippe',\n",
       "       'Clarke, Mrs. Charles V (Ada Maria Winfield)',\n",
       "       'Phillips, Miss. Kate Florence (\"Mrs Kate Louise Phillips Marshall\")',\n",
       "       'Flynn, Mr. James', 'Pickard, Mr. Berk (Berk Trembisky)',\n",
       "       'Bjornstrom-Steffansson, Mr. Mauritz Hakan',\n",
       "       'Thorneycroft, Mrs. Percival (Florence Kate White)',\n",
       "       'Louch, Mrs. Charles Alexander (Alice Adelaide Slow)',\n",
       "       'Kallio, Mr. Nikolai Erland', 'Silvey, Mr. William Baird',\n",
       "       'Carter, Miss. Lucile Polk',\n",
       "       'Ford, Miss. Doolina Margaret \"Daisy\"',\n",
       "       'Richards, Mrs. Sidney (Emily Hocking)', 'Fortune, Mr. Mark',\n",
       "       'Kvillner, Mr. Johan Henrik Johannesson',\n",
       "       'Hart, Mrs. Benjamin (Esther Ada Bloomfield)', 'Hampe, Mr. Leon',\n",
       "       'Petterson, Mr. Johan Emil', 'Reynaldo, Ms. Encarnacion',\n",
       "       'Johannesen-Bratthammer, Mr. Bernt', 'Dodge, Master. Washington',\n",
       "       'Mellinger, Miss. Madeleine Violet', 'Seward, Mr. Frederic Kimber',\n",
       "       'Baclini, Miss. Marie Catherine', 'Peuchen, Major. Arthur Godfrey',\n",
       "       'West, Mr. Edwy Arthur', 'Hagland, Mr. Ingvald Olai Olsen',\n",
       "       'Foreman, Mr. Benjamin Laventall', 'Goldenberg, Mr. Samuel L',\n",
       "       'Peduzzi, Mr. Joseph', 'Jalsevac, Mr. Ivan',\n",
       "       'Millet, Mr. Francis Davis', 'Kenyon, Mrs. Frederick R (Marion)',\n",
       "       'Toomey, Miss. Ellen', \"O'Connor, Mr. Maurice\",\n",
       "       'Anderson, Mr. Harry', 'Morley, Mr. William', 'Gee, Mr. Arthur H',\n",
       "       'Milling, Mr. Jacob Christian', 'Maisner, Mr. Simon',\n",
       "       'Goncalves, Mr. Manuel Estanslas', 'Campbell, Mr. William',\n",
       "       'Smart, Mr. John Montgomery', 'Scanlan, Mr. James',\n",
       "       'Baclini, Miss. Helene Barbara', 'Keefe, Mr. Arthur',\n",
       "       'Cacic, Mr. Luka', 'West, Mrs. Edwy Arthur (Ada Mary Worth)',\n",
       "       'Jerwan, Mrs. Amin S (Marie Marthe Thuillard)',\n",
       "       'Strandberg, Miss. Ida Sofia', 'Clifford, Mr. George Quincy',\n",
       "       'Renouf, Mr. Peter Henry', 'Braund, Mr. Lewis Richard',\n",
       "       'Karlsson, Mr. Nils August', 'Hirvonen, Miss. Hildur E',\n",
       "       'Goodwin, Master. Harold Victor',\n",
       "       'Frost, Mr. Anthony Wood \"Archie\"', 'Rouse, Mr. Richard Henry',\n",
       "       'Turkula, Mrs. (Hedwig)', 'Bishop, Mr. Dickinson H',\n",
       "       'Lefebre, Miss. Jeannie',\n",
       "       'Hoyt, Mrs. Frederick Maxfield (Jane Anne Forby)',\n",
       "       'Kent, Mr. Edward Austin', 'Somerton, Mr. Francis William',\n",
       "       'Coutts, Master. Eden Leslie \"Neville\"',\n",
       "       'Hagland, Mr. Konrad Mathias Reiersen', 'Windelov, Mr. Einar',\n",
       "       'Molson, Mr. Harry Markland', 'Artagaveytia, Mr. Ramon',\n",
       "       'Stanley, Mr. Edward Roland', 'Yousseff, Mr. Gerious',\n",
       "       'Eustis, Miss. Elizabeth Mussey',\n",
       "       'Shellard, Mr. Frederick William',\n",
       "       'Allison, Mrs. Hudson J C (Bessie Waldo Daniels)',\n",
       "       'Svensson, Mr. Olof', 'Calic, Mr. Petar', 'Canavan, Miss. Mary',\n",
       "       \"O'Sullivan, Miss. Bridget Mary\", 'Laitinen, Miss. Kristina Sofia',\n",
       "       'Maioni, Miss. Roberta',\n",
       "       'Penasco y Castellana, Mr. Victor de Satode',\n",
       "       'Quick, Mrs. Frederick Charles (Jane Richards)',\n",
       "       'Bradley, Mr. George (\"George Arthur Brayton\")',\n",
       "       'Olsen, Mr. Henry Margido', 'Lang, Mr. Fang',\n",
       "       'Daly, Mr. Eugene Patrick', 'Webber, Mr. James',\n",
       "       'McGough, Mr. James Robert',\n",
       "       'Rothschild, Mrs. Martin (Elizabeth L. Barrett)',\n",
       "       'Coleff, Mr. Satio', 'Walker, Mr. William Anderson',\n",
       "       'Lemore, Mrs. (Amelia Milley)', 'Ryan, Mr. Patrick',\n",
       "       'Angle, Mrs. William A (Florence \"Mary\" Agnes Hughes)',\n",
       "       'Pavlovic, Mr. Stefo', 'Vovk, Mr. Janko', 'Lahoud, Mr. Sarkis',\n",
       "       'Hippach, Mrs. Louis Albert (Ida Sophia Fischer)',\n",
       "       'Kassem, Mr. Fared', 'Farrell, Mr. James', 'Ridsdale, Miss. Lucy',\n",
       "       'Farthing, Mr. John', 'Salonen, Mr. Johan Werner',\n",
       "       'Hocking, Mr. Richard George', 'Quick, Miss. Phyllis May',\n",
       "       'Toufik, Mr. Nakli', 'Elias, Mr. Joseph Jr',\n",
       "       'Peter, Mrs. Catherine (Catherine Rizk)', 'Cacic, Miss. Marija',\n",
       "       'Hart, Miss. Eva Miriam', 'Butt, Major. Archibald Willingham',\n",
       "       'LeRoy, Miss. Bertha', 'Risien, Mr. Samuel Beard',\n",
       "       'Frolicher, Miss. Hedwig Margaritha', 'Crosby, Miss. Harriet R',\n",
       "       'Andersson, Miss. Ingeborg Constanzia',\n",
       "       'Andersson, Miss. Sigrid Elisabeth', 'Beane, Mr. Edward',\n",
       "       'Douglas, Mr. Walter Donald', 'Nicholson, Mr. Arthur Ernest',\n",
       "       'Beane, Mrs. Edward (Ethel Clarke)', 'Padro y Manent, Mr. Julian',\n",
       "       'Goldsmith, Mr. Frank John', 'Davies, Master. John Morgan Jr',\n",
       "       'Thayer, Mr. John Borland Jr', 'Sharp, Mr. Percival James R',\n",
       "       \"O'Brien, Mr. Timothy\", 'Leeni, Mr. Fahim (\"Philip Zenni\")',\n",
       "       'Ohman, Miss. Velin', 'Wright, Mr. George',\n",
       "       'Duff Gordon, Lady. (Lucille Christiana Sutherland) (\"Mrs Morgan\")',\n",
       "       'Robbins, Mr. Victor', 'Taussig, Mrs. Emil (Tillie Mandelbaum)',\n",
       "       'de Messemaeker, Mrs. Guillaume Joseph (Emma)',\n",
       "       'Morrow, Mr. Thomas Rowan', 'Sivic, Mr. Husein',\n",
       "       'Norman, Mr. Robert Douglas', 'Simmons, Mr. John',\n",
       "       'Meanwell, Miss. (Marion Ogden)', 'Davies, Mr. Alfred J',\n",
       "       'Stoytcheff, Mr. Ilia',\n",
       "       'Palsson, Mrs. Nils (Alma Cornelia Berglund)',\n",
       "       'Doharr, Mr. Tannous', 'Jonsson, Mr. Carl', 'Harris, Mr. George',\n",
       "       'Appleton, Mrs. Edward Dale (Charlotte Lamson)',\n",
       "       'Flynn, Mr. John Irwin (\"Irving\")', 'Kelly, Miss. Mary',\n",
       "       'Rush, Mr. Alfred George John', 'Patchett, Mr. George',\n",
       "       'Garside, Miss. Ethel',\n",
       "       'Silvey, Mrs. William Baird (Alice Munger)',\n",
       "       'Caram, Mrs. Joseph (Maria Elias)', 'Jussila, Mr. Eiriik',\n",
       "       'Christy, Miss. Julie Rachel',\n",
       "       'Thayer, Mrs. John Borland (Marian Longstreth Morris)',\n",
       "       'Downton, Mr. William James', 'Ross, Mr. John Hugo',\n",
       "       'Paulner, Mr. Uscher', 'Taussig, Miss. Ruth',\n",
       "       'Jarvis, Mr. John Denzil', 'Frolicher-Stehli, Mr. Maxmillian',\n",
       "       'Gilinski, Mr. Eliezer', 'Murdlin, Mr. Joseph',\n",
       "       'Rintamaki, Mr. Matti',\n",
       "       'Stephenson, Mrs. Walter Bertram (Martha Eustis)',\n",
       "       'Elsbury, Mr. William James', 'Bourke, Miss. Mary',\n",
       "       'Chapman, Mr. John Henry', 'Van Impe, Mr. Jean Baptiste',\n",
       "       'Leitch, Miss. Jessie Wills', 'Johnson, Mr. Alfred',\n",
       "       'Boulos, Mr. Hanna',\n",
       "       'Duff Gordon, Sir. Cosmo Edmund (\"Mr Morgan\")',\n",
       "       'Jacobsohn, Mrs. Sidney Samuel (Amy Frances Christy)',\n",
       "       'Slabenoff, Mr. Petco', 'Harrington, Mr. Charles H',\n",
       "       'Torber, Mr. Ernst William', 'Homer, Mr. Harry (\"Mr E Haven\")',\n",
       "       'Lindell, Mr. Edvard Bengtsson', 'Karaic, Mr. Milan',\n",
       "       'Daniel, Mr. Robert Williams',\n",
       "       'Laroche, Mrs. Joseph (Juliette Marie Louise Lafargue)',\n",
       "       'Shutes, Miss. Elizabeth W',\n",
       "       'Andersson, Mrs. Anders Johan (Alfrida Konstantia Brogren)',\n",
       "       'Jardin, Mr. Jose Neto', 'Murphy, Miss. Margaret Jane',\n",
       "       'Horgan, Mr. John', 'Brocklebank, Mr. William Alfred',\n",
       "       'Herman, Miss. Alice', 'Danbom, Mr. Ernst Gilbert',\n",
       "       'Lobb, Mrs. William Arthur (Cordelia K Stanlick)',\n",
       "       'Becker, Miss. Marion Louise', 'Gavey, Mr. Lawrence',\n",
       "       'Yasbeck, Mr. Antoni', 'Kimball, Mr. Edwin Nelson Jr',\n",
       "       'Nakid, Mr. Sahid', 'Hansen, Mr. Henry Damsgaard',\n",
       "       'Bowen, Mr. David John \"Dai\"', 'Sutton, Mr. Frederick',\n",
       "       'Kirkland, Rev. Charles Leonard', 'Longley, Miss. Gretchen Fiske',\n",
       "       'Bostandyeff, Mr. Guentcho', \"O'Connell, Mr. Patrick D\",\n",
       "       'Barkworth, Mr. Algernon Henry Wilson',\n",
       "       'Lundahl, Mr. Johan Svensson', 'Stahelin-Maeglin, Dr. Max',\n",
       "       'Parr, Mr. William Henry Marsh', 'Skoog, Miss. Mabel',\n",
       "       'Davis, Miss. Mary', 'Leinonen, Mr. Antti Gustaf',\n",
       "       'Collyer, Mr. Harvey', 'Panula, Mrs. Juha (Maria Emilia Ojala)',\n",
       "       'Thorneycroft, Mr. Percival', 'Jensen, Mr. Hans Peder',\n",
       "       'Sagesser, Mlle. Emma', 'Skoog, Miss. Margit Elizabeth',\n",
       "       'Foo, Mr. Choong', 'Baclini, Miss. Eugenie',\n",
       "       'Harper, Mr. Henry Sleeper', 'Cor, Mr. Liudevit',\n",
       "       'Simonius-Blumer, Col. Oberst Alfons', 'Willey, Mr. Edward',\n",
       "       'Stanley, Miss. Amy Zillah Elsie', 'Mitkoff, Mr. Mito',\n",
       "       'Doling, Miss. Elsie', 'Kalvik, Mr. Johannes Halvorsen',\n",
       "       'O\\'Leary, Miss. Hanora \"Norah\"', 'Hegarty, Miss. Hanora \"Nora\"',\n",
       "       'Hickman, Mr. Leonard Mark', 'Radeff, Mr. Alexander',\n",
       "       'Bourke, Mrs. John (Catherine)', 'Eitemiller, Mr. George Floyd',\n",
       "       'Newell, Mr. Arthur Webster', 'Frauenthal, Dr. Henry William',\n",
       "       'Badt, Mr. Mohamed', 'Colley, Mr. Edward Pomeroy',\n",
       "       'Coleff, Mr. Peju', 'Lindqvist, Mr. Eino William',\n",
       "       'Hickman, Mr. Lewis', 'Butler, Mr. Reginald Fenton',\n",
       "       'Rommetvedt, Mr. Knud Paust', 'Cook, Mr. Jacob',\n",
       "       'Taylor, Mrs. Elmer Zebley (Juliet Cummins Wright)',\n",
       "       'Brown, Mrs. Thomas William Solomon (Elizabeth Catherine Ford)',\n",
       "       'Davidson, Mr. Thornton', 'Mitchell, Mr. Henry Michael',\n",
       "       'Wilhelms, Mr. Charles', 'Watson, Mr. Ennis Hastings',\n",
       "       'Edvardsson, Mr. Gustaf Hjalmar', 'Sawyer, Mr. Frederick Charles',\n",
       "       'Turja, Miss. Anna Sofia', 'Hoytt, Mr. Frederick Maxfield',\n",
       "       'Cardeza, Mr. Thomas Drake Martinez', 'Peters, Miss. Katie',\n",
       "       'Hassab, Mr. Hammad', 'Olsvigen, Mr. Thor Anderson',\n",
       "       'Goodwin, Mr. Charles Edward', 'Brown, Mr. Thomas William Solomon',\n",
       "       'Laroche, Mr. Joseph Philippe Lemercier',\n",
       "       'Panula, Mr. Jaako Arnold', 'Dakic, Mr. Branko',\n",
       "       'Fischer, Mr. Eberhard Thelander',\n",
       "       'Madill, Miss. Georgette Alexandra', 'Dick, Mr. Albert Adrian',\n",
       "       'Karun, Miss. Manca', 'Lam, Mr. Ali', 'Saad, Mr. Khalil',\n",
       "       'Weir, Col. John', 'Chapman, Mr. Charles Henry',\n",
       "       'Kelly, Mr. James', 'Mullens, Miss. Katherine \"Katie\"',\n",
       "       'Thayer, Mr. John Borland',\n",
       "       'Humblen, Mr. Adolf Mathias Nicolai Olsen',\n",
       "       'Astor, Mrs. John Jacob (Madeleine Talmadge Force)',\n",
       "       'Silverthorne, Mr. Spencer Victor', 'Barbara, Miss. Saiide',\n",
       "       'Gallagher, Mr. Martin', 'Hansen, Mr. Henrik Juul',\n",
       "       'Morley, Mr. Henry Samuel (\"Mr Henry Marshall\")',\n",
       "       'Kelly, Mrs. Florence \"Fannie\"',\n",
       "       'Calderhead, Mr. Edward Pennington', 'Cleaver, Miss. Alice',\n",
       "       'Moubarek, Master. Halim Gonios (\"William George\")',\n",
       "       'Mayne, Mlle. Berthe Antonine (\"Mrs de Villiers\")',\n",
       "       'Klaber, Mr. Herman', 'Taylor, Mr. Elmer Zebley',\n",
       "       'Larsson, Mr. August Viktor', 'Greenberg, Mr. Samuel',\n",
       "       'Soholt, Mr. Peter Andreas Lauritz Andersen',\n",
       "       'Endres, Miss. Caroline Louise',\n",
       "       'Troutt, Miss. Edwina Celia \"Winnie\"', 'McEvoy, Mr. Michael',\n",
       "       'Johnson, Mr. Malkolm Joackim',\n",
       "       'Harper, Miss. Annie Jessie \"Nina\"', 'Jensen, Mr. Svend Lauritz',\n",
       "       'Gillespie, Mr. William Henry', 'Hodges, Mr. Henry Price',\n",
       "       'Chambers, Mr. Norman Campbell', 'Oreskovic, Mr. Luka',\n",
       "       'Renouf, Mrs. Peter Henry (Lillian Jefferys)',\n",
       "       'Mannion, Miss. Margareth', 'Bryhl, Mr. Kurt Arnold Gottfrid',\n",
       "       'Ilmakangas, Miss. Pieta Sofia', 'Allen, Miss. Elisabeth Walton',\n",
       "       'Hassan, Mr. Houssein G N', 'Knight, Mr. Robert J',\n",
       "       'Berriman, Mr. William John', 'Troupiansky, Mr. Moses Aaron',\n",
       "       'Williams, Mr. Leslie', 'Ford, Mrs. Edward (Margaret Ann Watson)',\n",
       "       'Lesurer, Mr. Gustave J', 'Ivanoff, Mr. Kanio',\n",
       "       'Nankoff, Mr. Minko', 'Hawksford, Mr. Walter James',\n",
       "       'Cavendish, Mr. Tyrell William',\n",
       "       'Ryerson, Miss. Susan Parker \"Suzette\"', 'McNamee, Mr. Neal',\n",
       "       'Stranden, Mr. Juho', 'Crosby, Capt. Edward Gifford',\n",
       "       'Abbott, Mr. Rossmore Edward', 'Sinkkonen, Miss. Anna',\n",
       "       'Marvin, Mr. Daniel Warner', 'Connaghton, Mr. Michael',\n",
       "       'Wells, Miss. Joan', 'Moor, Master. Meier',\n",
       "       'Vande Velde, Mr. Johannes Joseph', 'Jonkoff, Mr. Lalio',\n",
       "       'Herman, Mrs. Samuel (Jane Laver)', 'Hamalainen, Master. Viljo',\n",
       "       'Carlsson, Mr. August Sigfrid', 'Bailey, Mr. Percy Andrew',\n",
       "       'Theobald, Mr. Thomas Leonard',\n",
       "       'Rothes, the Countess. of (Lucy Noel Martha Dyer-Edwards)',\n",
       "       'Garfirth, Mr. John', 'Nirva, Mr. Iisakki Antino Aijo',\n",
       "       'Barah, Mr. Hanna Assi',\n",
       "       'Carter, Mrs. William Ernest (Lucile Polk)',\n",
       "       'Eklund, Mr. Hans Linus', 'Hogeboom, Mrs. John C (Anna Andrews)',\n",
       "       'Brewe, Dr. Arthur Jackson', 'Mangan, Miss. Mary',\n",
       "       'Moran, Mr. Daniel J', 'Gronnestad, Mr. Daniel Danielsen',\n",
       "       'Lievens, Mr. Rene Aime', 'Jensen, Mr. Niels Peder',\n",
       "       'Mack, Mrs. (Mary)', 'Elias, Mr. Dibo',\n",
       "       'Hocking, Mrs. Elizabeth (Eliza Needs)',\n",
       "       'Myhrman, Mr. Pehr Fabian Oliver Malkolm', 'Tobin, Mr. Roger',\n",
       "       'Emanuel, Miss. Virginia Ethel', 'Kilgannon, Mr. Thomas J',\n",
       "       'Robert, Mrs. Edward Scott (Elisabeth Walton McMillan)',\n",
       "       'Ayoub, Miss. Banoura',\n",
       "       'Dick, Mrs. Albert Adrian (Vera Gillespie)',\n",
       "       'Long, Mr. Milton Clyde', 'Johnston, Mr. Andrew G',\n",
       "       'Ali, Mr. William', 'Harmer, Mr. Abraham (David Lishin)',\n",
       "       'Sjoblom, Miss. Anna Sofia', 'Rice, Master. George Hugh',\n",
       "       'Dean, Master. Bertram Vere', 'Guggenheim, Mr. Benjamin',\n",
       "       'Keane, Mr. Andrew \"Andy\"', 'Gaskell, Mr. Alfred',\n",
       "       'Sage, Miss. Stella Anna', 'Hoyt, Mr. William Fisher',\n",
       "       'Dantcheff, Mr. Ristiu', 'Otter, Mr. Richard',\n",
       "       'Leader, Dr. Alice (Farnham)', 'Osman, Mrs. Mara',\n",
       "       'Ibrahim Shawah, Mr. Yousseff',\n",
       "       'Van Impe, Mrs. Jean Baptiste (Rosalie Paula Govaert)',\n",
       "       'Ponesell, Mr. Martin',\n",
       "       'Collyer, Mrs. Harvey (Charlotte Annie Tate)',\n",
       "       'Carter, Master. William Thornton II',\n",
       "       'Thomas, Master. Assad Alexander', 'Hedman, Mr. Oskar Arvid',\n",
       "       'Johansson, Mr. Karl Johan', 'Andrews, Mr. Thomas Jr',\n",
       "       'Pettersson, Miss. Ellen Natalia', 'Meyer, Mr. August',\n",
       "       'Chambers, Mrs. Norman Campbell (Bertha Griggs)',\n",
       "       'Alexander, Mr. William', 'Lester, Mr. James',\n",
       "       'Slemen, Mr. Richard James', 'Andersson, Miss. Ebba Iris Alfrida',\n",
       "       'Tomlin, Mr. Ernest Portage', 'Fry, Mr. Richard',\n",
       "       'Heininen, Miss. Wendla Maria', 'Mallet, Mr. Albert',\n",
       "       'Holm, Mr. John Fredrik Alexander', 'Skoog, Master. Karl Thorsten',\n",
       "       'Hays, Mrs. Charles Melville (Clara Jennings Gregg)',\n",
       "       'Lulic, Mr. Nikola', 'Reuchlin, Jonkheer. John George',\n",
       "       'Moor, Mrs. (Beila)', 'Panula, Master. Urho Abraham',\n",
       "       'Flynn, Mr. John', 'Lam, Mr. Len', 'Mallet, Master. Andre',\n",
       "       'McCormack, Mr. Thomas Joseph',\n",
       "       'Yasbeck, Mrs. Antoni (Selini Alexander)',\n",
       "       'Richards, Master. George Sibley', 'Saad, Mr. Amin',\n",
       "       'Augustsson, Mr. Albert', 'Allum, Mr. Owen George',\n",
       "       'Compton, Miss. Sara Rebecca', 'Pasic, Mr. Jakob',\n",
       "       'Sirota, Mr. Maurice', 'Chip, Mr. Chang', 'Marechal, Mr. Pierre',\n",
       "       'Alhomaki, Mr. Ilmari Rudolf', 'Mudd, Mr. Thomas Charles',\n",
       "       'Serepeca, Miss. Augusta', 'Lemberopolous, Mr. Peter L',\n",
       "       'Culumovic, Mr. Jeso', 'Abbing, Mr. Anthony',\n",
       "       'Sage, Mr. Douglas Bullen', 'Markoff, Mr. Marin',\n",
       "       'Harper, Rev. John',\n",
       "       'Goldenberg, Mrs. Samuel L (Edwiga Grabowska)',\n",
       "       'Andersson, Master. Sigvard Harald Elias', 'Svensson, Mr. Johan',\n",
       "       'Boulos, Miss. Nourelain', 'Lines, Miss. Mary Conover',\n",
       "       'Carter, Mrs. Ernest Courtenay (Lilian Hughes)',\n",
       "       'Aks, Mrs. Sam (Leah Rosen)',\n",
       "       'Wick, Mrs. George Dennick (Mary Hitchcock)',\n",
       "       'Daly, Mr. Peter Denis', 'Baclini, Mrs. Solomon (Latifa Qurban)',\n",
       "       'Razi, Mr. Raihed', 'Hansen, Mr. Claus Peter',\n",
       "       'Giles, Mr. Frederick Edward',\n",
       "       'Swift, Mrs. Frederick Joel (Margaret Welles Barron)',\n",
       "       'Sage, Miss. Dorothy Edith \"Dolly\"', 'Gill, Mr. John William',\n",
       "       'Bystrom, Mrs. (Karolina)', 'Duran y More, Miss. Asuncion',\n",
       "       'Roebling, Mr. Washington Augustus II',\n",
       "       'van Melkebeke, Mr. Philemon', 'Johnson, Master. Harold Theodor',\n",
       "       'Balkic, Mr. Cerin',\n",
       "       'Beckwith, Mrs. Richard Leonard (Sallie Monypeny)',\n",
       "       'Carlsson, Mr. Frans Olof', 'Vander Cruyssen, Mr. Victor',\n",
       "       'Abelson, Mrs. Samuel (Hannah Wizosky)',\n",
       "       'Najib, Miss. Adele Kiamie \"Jane\"',\n",
       "       'Gustafsson, Mr. Alfred Ossian', 'Petroff, Mr. Nedelio',\n",
       "       'Laleff, Mr. Kristo',\n",
       "       'Potter, Mrs. Thomas Jr (Lily Alexenia Wilson)',\n",
       "       'Shelley, Mrs. William (Imanita Parrish Hall)',\n",
       "       'Markun, Mr. Johann', 'Dahlberg, Miss. Gerda Ulrika',\n",
       "       'Banfield, Mr. Frederick James', 'Sutehall, Mr. Henry Jr',\n",
       "       'Rice, Mrs. William (Margaret Norton)', 'Montvila, Rev. Juozas',\n",
       "       'Graham, Miss. Margaret Edith',\n",
       "       'Johnston, Miss. Catherine Helen \"Carrie\"',\n",
       "       'Behr, Mr. Karl Howell', 'Dooley, Mr. Patrick',\n",
       "       'Mr. Frederick Maxfield Hoyt'], dtype=object)"
      ]
     },
     "execution_count": 324,
     "metadata": {},
     "output_type": "execute_result"
    }
   ],
   "source": [
    "data['Name'].unique()"
   ]
  },
  {
   "cell_type": "code",
   "execution_count": 325,
   "metadata": {},
   "outputs": [
    {
     "data": {
      "text/plain": [
       "array(['male', 'female', 'malef', 'mal', 'fem', 'femmale'], dtype=object)"
      ]
     },
     "execution_count": 325,
     "metadata": {},
     "output_type": "execute_result"
    }
   ],
   "source": [
    "data['Sex'].unique()"
   ]
  },
  {
   "cell_type": "code",
   "execution_count": 326,
   "metadata": {},
   "outputs": [
    {
     "data": {
      "text/plain": [
       "array(['22', '38', '26', '35', nan, '54', '2', '27', '14', '4', '58',\n",
       "       '20', '55', '31', '34', '15', '8', '19', '40', '.9', '66', '28',\n",
       "       '42', '21', '18', '3', '7', '49', '29', '65', '28,5', '5', '11',\n",
       "       '45', '17', '32', '16', '25', '0,83', '30', '33', '23', '24', '46',\n",
       "       '59', '71', '37', '47', '14,5', '70,5', '32,5', '12', '9', '36,5',\n",
       "       '51', '55,5', '40,5', '44', '1', '61', '56', '50', '36', '45,5',\n",
       "       '4435', '20,5', '62', '41', '52', '63', '23,5', '0,92', '43', '60',\n",
       "       '39', '10', '64', '13', '48', '0,75', '-3', '-12', '53', '57',\n",
       "       '80', '250', '70', '24,5', '6', '0,67', '30,5', '0,42', '34,5',\n",
       "       '74'], dtype=object)"
      ]
     },
     "execution_count": 326,
     "metadata": {},
     "output_type": "execute_result"
    }
   ],
   "source": [
    "data['Age'].unique()"
   ]
  },
  {
   "cell_type": "code",
   "execution_count": 327,
   "metadata": {},
   "outputs": [
    {
     "data": {
      "text/plain": [
       "array([1, 0, 3, 4, 2, 5, 8], dtype=int64)"
      ]
     },
     "execution_count": 327,
     "metadata": {},
     "output_type": "execute_result"
    }
   ],
   "source": [
    "data['SibSp'].unique()"
   ]
  },
  {
   "cell_type": "code",
   "execution_count": 328,
   "metadata": {},
   "outputs": [
    {
     "data": {
      "text/plain": [
       "array([0, 1, 2, 5, 3, 4], dtype=int64)"
      ]
     },
     "execution_count": 328,
     "metadata": {},
     "output_type": "execute_result"
    }
   ],
   "source": [
    "data['Parch'].unique()"
   ]
  },
  {
   "cell_type": "code",
   "execution_count": 329,
   "metadata": {},
   "outputs": [
    {
     "data": {
      "text/plain": [
       "array(['A/5 21171', 'PC 17599', 'STON/O2. 3101282', '113803', '373450',\n",
       "       '330877', '17463', '349909', '347742', '237736', 'PP 9549',\n",
       "       '113783', 'A/5. 2151', '350406', '248706', '382652', '244373',\n",
       "       '345763', '2649', '239865', '248698', '330923', '347077', '2631',\n",
       "       '19950', '330959', '349216', 'PC 17601', 'PC 17569', '335677',\n",
       "       'C.A. 24579', 'PC 17604', '113789', '2677', 'A./5. 2152', '345764',\n",
       "       '2651', '7546', '11668', '349253', 'SC/Paris 2123', '330958',\n",
       "       'S.C./A.4. 23567', '370371', '14311', '2662', '349237', '3101295',\n",
       "       'A/4. 39886', 'PC 17572', '2926', '113509', '19947', 'C.A. 31026',\n",
       "       '2697', 'C.A. 34651', 'CA 2144', '2669', '36973', '347088',\n",
       "       'PC 17605', '2661', 'C.A. 29395', 'S.P. 3464', '3101281', '315151',\n",
       "       'C.A. 33111', 'S.O.C. 14879', '2680', '1601', '348123', '349208',\n",
       "       '374746', '248738', '364516', '345767', '345779', '330932',\n",
       "       '113059', 'SO/C 14885', '3101278', 'W./C. 6608', 'SOTON/OQ 392086',\n",
       "       '343275', '343276', '347466', 'W.E.P. 5734', 'C.A. 2315', '364500',\n",
       "       '374910', 'PC 17754', 'PC 17759', '231919', '244367', '349245',\n",
       "       '349215', '35281', '7540', '3101276', '349207', '343120', '312991',\n",
       "       '349249', '371110', '110465', '2665', '324669', '4136', '2627',\n",
       "       'STON/O 2. 3101294', '370369', 'PC 17558', '347082', 'A4. 54510',\n",
       "       '27267', '370372', 'C 17369', '2668', '347061', '349241',\n",
       "       'SOTON/O.Q. 3101307', 'A/5. 3337', '228414', 'C.A. 29178',\n",
       "       'SC/PARIS 2133', '11752', '7534', 'PC 17593', '2678', '347081',\n",
       "       'STON/O2. 3101279', '365222', '231945', 'C.A. 33112', '350043',\n",
       "       '230080', '244310', 'S.O.P. 1166', '113776', 'A.5. 11206',\n",
       "       'A/5. 851', 'Fa 265302', 'PC 17597', '35851', 'SOTON/OQ 392090',\n",
       "       '315037', 'CA. 2343', '371362', 'C.A. 33595', '347068', '315093',\n",
       "       '363291', '113505', 'PC 17318', '111240', 'STON/O 2. 3101280',\n",
       "       '17764', '350404', '4133', 'PC 17595', '250653', 'LINE',\n",
       "       'SC/PARIS 2131', '230136', '315153', '113767', '370365', '111428',\n",
       "       '364849', '349247', '234604', '28424', '350046', 'PC 17610',\n",
       "       '368703', '4579', '370370', '248747', '345770', '3101264', '2628',\n",
       "       'A/5 3540', '347054', '2699', '367231', '112277',\n",
       "       'SOTON/O.Q. 3101311', 'F.C.C. 13528', 'A/5 21174', '250646',\n",
       "       '367229', '35273', 'STON/O2. 3101283', '243847', '11813',\n",
       "       'W/C 14208', 'SOTON/OQ 392089', '220367', '21440', '349234',\n",
       "       '19943', 'PP 4348', 'SW/PP 751', 'A/5 21173', '236171', '347067',\n",
       "       '237442', 'C.A. 29566', 'W./C. 6609', '26707', 'C.A. 31921',\n",
       "       '28665', 'SCO/W 1585', '367230', 'W./C. 14263',\n",
       "       'STON/O 2. 3101275', '2694', '19928', '347071', '250649', '11751',\n",
       "       '244252', '362316', '113514', 'A/5. 3336', '370129', '2650',\n",
       "       'PC 17585', '110152', 'PC 17755', '230433', '384461', '110413',\n",
       "       '112059', '382649', 'C.A. 17248', '347083', 'PC 17582', 'PC 17760',\n",
       "       '113798', '250644', 'PC 17596', '370375', '13502', '347073',\n",
       "       '239853', 'C.A. 2673', '336439', '347464', '345778', 'A/5. 10482',\n",
       "       '113056', '349239', '345774', '349206', '237798', '370373',\n",
       "       '19877', '11967', 'SC/Paris 2163', '349236', '349233', 'PC 17612',\n",
       "       '2693', '113781', '19988', '9234', '367226', '226593', 'A/5 2466',\n",
       "       '17421', 'PC 17758', 'P/PP 3381', 'PC 17485', '11767', 'PC 17608',\n",
       "       '250651', '349243', 'F.C.C. 13529', '347470', '29011', '36928',\n",
       "       '16966', 'A/5 21172', '349219', '234818', '345364', '28551',\n",
       "       '111361', '113043', 'PC 17611', '349225', '7598', '113784',\n",
       "       '248740', '244361', '229236', '248733', '31418', '386525',\n",
       "       'C.A. 37671', '315088', '7267', '113510', '2695', '2647', '345783',\n",
       "       '237671', '330931', '330980', 'SC/PARIS 2167', '2691',\n",
       "       'SOTON/O.Q. 3101310', 'C 7076', '110813', '2626', '14313',\n",
       "       'PC 17477', '11765', '3101267', '323951', 'C 7077', '113503',\n",
       "       '2648', '347069', 'PC 17757', '2653', 'STON/O 2. 3101293',\n",
       "       '349227', '27849', '367655', 'SC 1748', '113760', '350034',\n",
       "       '3101277', '350052', '350407', '28403', '244278', '240929',\n",
       "       'STON/O 2. 3101289', '341826', '4137', '315096', '28664', '347064',\n",
       "       '29106', '312992', '349222', '394140', 'STON/O 2. 3101269',\n",
       "       '343095', '28220', '250652', '28228', '345773', '349254',\n",
       "       'A/5. 13032', '315082', '347080', 'A/4. 34244', '2003', '250655',\n",
       "       '364851', 'SOTON/O.Q. 392078', '110564', '376564', 'SC/AH 3085',\n",
       "       'STON/O 2. 3101274', '13507', 'C.A. 18723', '345769', '347076',\n",
       "       '230434', '65306', '33638', '113794', '2666', '113786', '65303',\n",
       "       '113051', '17453', 'A/5 2817', '349240', '13509', '17464',\n",
       "       'F.C.C. 13531', '371060', '19952', '364506', '111320', '234360',\n",
       "       'A/S 2816', 'SOTON/O.Q. 3101306', '113792', '36209', '323592',\n",
       "       '315089', 'SC/AH Basle 541', '7553', '31027', '3460', '350060',\n",
       "       '3101298', '239854', 'A/5 3594', '4134', '11771', 'A.5. 18509',\n",
       "       '65304', 'SOTON/OQ 3101317', '113787', 'PC 17609', 'A/4 45380',\n",
       "       '36947', 'C.A. 6212', '350035', '315086', '364846', '330909',\n",
       "       '4135', '26360', '111427', 'C 4001', '382651', 'SOTON/OQ 3101316',\n",
       "       'PC 17473', 'PC 17603', '349209', '36967', 'C.A. 34260', '226875',\n",
       "       '349242', '349252', '2624', '2700', '367232', 'W./C. 14258',\n",
       "       'PC 17483', '3101296', '29104', '2641', '2690', '315084', '113050',\n",
       "       'PC 17761', '364498', '13568', 'WE/P 5735', '2908', '693',\n",
       "       'SC/PARIS 2146', '244358', '330979', '2620', '347085', '113807',\n",
       "       '11755', '345572', '372622', '349251', '218629', 'SOTON/OQ 392082',\n",
       "       'SOTON/O.Q. 392087', 'A/4 48871', '349205', '2686', '350417',\n",
       "       'S.W./PP 752', '11769', 'PC 17474', '14312', 'A/4. 20589',\n",
       "       '358585', '243880', '2689', 'STON/O 2. 3101286', '237789', '13049',\n",
       "       '3411', '237565', '13567', '14973', 'A./5. 3235',\n",
       "       'STON/O 2. 3101273', 'A/5 3902', '364848', 'SC/AH 29037', '248727',\n",
       "       '2664', '349214', '113796', '364511', '111426', '349910', '349246',\n",
       "       '113804', 'SOTON/O.Q. 3101305', '370377', '364512', '220845',\n",
       "       '31028', '2659', '11753', '350029', '54636', '36963', '219533',\n",
       "       '349224', '334912', '27042', '347743', '13214', '112052', '237668',\n",
       "       'STON/O 2. 3101292', '350050', '349231', '13213', 'S.O./P.P. 751',\n",
       "       'CA. 2314', '349221', '8475', '330919', '365226', '349223',\n",
       "       '29751', '2623', '5727', '349210', 'STON/O 2. 3101285', '234686',\n",
       "       '312993', 'A/5 3536', '19996', '29750', 'F.C. 12750', 'C.A. 24580',\n",
       "       '244270', '239856', '349912', '342826', '4138', '330935', '6563',\n",
       "       '349228', '350036', '24160', '17474', '349256', '2672', '113800',\n",
       "       '248731', '363592', '35852', '348121', 'PC 17475', '36864',\n",
       "       '350025', '223596', 'PC 17476', 'PC 17482', '113028', '7545',\n",
       "       '250647', '348124', '34218', '36568', '347062', '350048', '12233',\n",
       "       '250643', '113806', '315094', '36866', '236853',\n",
       "       'STON/O2. 3101271', '239855', '28425', '233639', '349201',\n",
       "       '349218', '16988', '376566', 'STON/O 2. 3101288', '250648',\n",
       "       '113773', '335097', '29103', '392096', '345780', '349204',\n",
       "       '350042', '29108', '363294', 'SOTON/O2 3101272', '2663', '347074',\n",
       "       '112379', '364850', '8471', '345781', '350047', 'S.O./P.P. 3',\n",
       "       '2674', '29105', '347078', '383121', '36865', '2687', '113501',\n",
       "       'W./C. 6607', 'SOTON/O.Q. 3101312', '374887', '3101265', '12460',\n",
       "       'PC 17600', '349203', '28213', '17465', '349244', '2685', '2625',\n",
       "       '347089', '347063', '112050', '347087', '248723', '3474', '28206',\n",
       "       '364499', '112058', 'STON/O2. 3101290', 'S.C./PARIS 2079',\n",
       "       'C 7075', '12749', '315098', '19972', '368323', '367228', '2671',\n",
       "       '347468', '2223', 'PC 17756', '315097', '392092', '11774',\n",
       "       'SOTON/O2 3101287', '2683', '315090', 'C.A. 5547', '349213',\n",
       "       '347060', 'PC 17592', '392091', '113055', '2629', '350026',\n",
       "       '28134', '17466', '233866', '236852', 'SC/PARIS 2149', 'PC 17590',\n",
       "       '345777', '349248', '695', '345765', '2667', '349212', '349217',\n",
       "       '349257', '7552', 'C.A./SOTON 34068', 'SOTON/OQ 392076', '211536',\n",
       "       '112053', '111369', '370376'], dtype=object)"
      ]
     },
     "execution_count": 329,
     "metadata": {},
     "output_type": "execute_result"
    }
   ],
   "source": [
    "data['Ticket'].unique()"
   ]
  },
  {
   "cell_type": "code",
   "execution_count": 330,
   "metadata": {
    "scrolled": true
   },
   "outputs": [
    {
     "data": {
      "text/plain": [
       "array(['7,25', '71,2833', '7,925', '53,1', '8,05', '8,4583', '51,8625',\n",
       "       '21,075', '11,1333', '30,0708', '16,7', '26,55', '7,8542', '16',\n",
       "       '29,125', '13', '18', '7,225', '26', '8,0292', '31,3875', '263',\n",
       "       '7,8792', '7,8958', '27,7208', '146,5208', '7,75', '10,5',\n",
       "       '82,1708', '52', '7,2292', '11,2417', '9,475', '21', '41,5792',\n",
       "       '15,5', '21,6792', '17,8', '39,6875', '7,8', '76,7292', '61,9792',\n",
       "       '35,5', '27,75', '46,9', '83,475', '27,9', '15,2458', '8,1583',\n",
       "       '8,6625', '73,5', '14,4542', '56,4958', '7,65', '29', '12,475',\n",
       "       '9', '9,5', '7,7875', '47,1', '15,85', '34,375', '61,175',\n",
       "       '20,575', '34,6542', '63,3583', '23', '77,2875', '8,6542', '7,775',\n",
       "       '24,15', '9,825', '14,4583', '247,5208', '31,275', '7,1417',\n",
       "       '22,3583', '6,975', '7,05', '14,5', '15,0458', '26,2833', '9,2167',\n",
       "       '79,2', '6,75', '11,5', '36,75', '7,7958', '12,525', '66,6',\n",
       "       '7,3125', '61,3792', '7,7333', '69,55', '16,1', '15,75', '20,525',\n",
       "       '55', '25,925', '33,5', '30,6958', '25,4667', '28,7125', '0',\n",
       "       '15,05', '39', '22,025', '50', '8,4042', '6,4958', '10,4625',\n",
       "       '18,7875', '31', '113,275', '27', '76,2917', '90', '9,35', '13,5',\n",
       "       '7,55', '26,25', '12,275', '7,125', '-90', '52,5542', '20,2125',\n",
       "       '86,5', '512,3292', '79,65', '153,4625', '135,6333', '19,5',\n",
       "       '29,7', '77,9583', '20,25', '78,85', '91,0792', '12,875', '8,85',\n",
       "       '151,55', '30,5', '23,25', '12,35', '110,8833', '108,9', '24',\n",
       "       '56,9292', '83,1583', '262,375', '14', '164,8667', '134,5',\n",
       "       '6,2375', '57,9792', '28,5', '133,65', '15,9', '9,225', '35',\n",
       "       '75,25', '69,3', '55,4417', '211,5', '4,0125', '227,525',\n",
       "       '15,7417', '7,7292', '12', '120', '12,65', '18,75', '6,8583',\n",
       "       '32,5', '7,875', '14,4', '55,9', '8,1125', '81,8583', '19,2583',\n",
       "       '19,9667', '89,1042', '38,5', '7,725', '13,7917', '9,8375',\n",
       "       '7,0458', '7,5208', '12,2875', '9,5875', '15,9a', '49,5042',\n",
       "       '78,2667', '15,1', '7,6292', '22,525', '26,2875', '59,4', '7,4958',\n",
       "       '34,0208', '221,7792', '106,425', '49,5', '71', '13,8625',\n",
       "       '7,8292', '39,6', '17,4', '51,4792', '26,3875', '30', '40,125',\n",
       "       '8,7125', '15', '33', '42,4', '15,55', '65', '32,3208', '7,0542',\n",
       "       '8,4333', '25,5875', '9,8417', '8,1375', '10,1708', '211,3375',\n",
       "       '57', '13,4167', '7,7417', '9,4833', '7,7375', '8,3625', '23,45',\n",
       "       '25,9292', '8,6833', '8,5167', '7,8875', '37,0042', '6,45', '93,5',\n",
       "       '6,95', '8,3', '6,4375', '39,4', '14,1083', '13,8583', '50,4958',\n",
       "       '5', '9,8458', '10,5167'], dtype=object)"
      ]
     },
     "execution_count": 330,
     "metadata": {},
     "output_type": "execute_result"
    }
   ],
   "source": [
    "data['Fare'].unique()"
   ]
  },
  {
   "cell_type": "code",
   "execution_count": 331,
   "metadata": {},
   "outputs": [
    {
     "data": {
      "text/plain": [
       "array(['S', 'C', 'Q', 'So', 'Co', 'Qe'], dtype=object)"
      ]
     },
     "execution_count": 331,
     "metadata": {},
     "output_type": "execute_result"
    }
   ],
   "source": [
    "data['Embarked'].unique()"
   ]
  },
  {
   "cell_type": "markdown",
   "metadata": {},
   "source": [
    "Podsumowanie analizy:  "
   ]
  },
  {
   "cell_type": "markdown",
   "metadata": {},
   "source": [
    "Kolumna \"Sex\" posiada 4 wartości błędne, które powstały w wyniku pomyłki przy uzupełnianiu danych, mamy do czynienia z tzw. literówkami. Naszym rozwiązaniem będzie zamiana błędnych wartości na prawidłowe. "
   ]
  },
  {
   "cell_type": "markdown",
   "metadata": {},
   "source": [
    "Przyglądając się wartościom kolumny \"Age\" możemy zauważyć problem z separatorem, który chcielibyśmy zamienić na separartor \".\". Drugą rzeczą jest wystąpienie wartości pustych, rozwiązaniem może okazać się wykorzystanie metody na uzupełnienie pustych danych medianą. Ostatnią rzeczą jaką możemy dostrzec jest wystąpienie wartości ujemnych oraz bardzo dużych liczb."
   ]
  },
  {
   "cell_type": "markdown",
   "metadata": {},
   "source": [
    "W kolumnie \"Fare\" wystąpują przecinki jako separatory, zostaną one poprawione na kropki. Kolumna ta posiada jedną wartość ujemną co jest niedopuszczalne, ponieważ mówimy tutaj o cenie biletu. Rozwiązaniem tego problemu będzie usunięcie całego wiersza z wartością ujemną. Dodatkowo analizując zbiór możemy zauważyć jedną wartość nieliczbową, która zostanie zamieniona na liczbową."
   ]
  },
  {
   "cell_type": "markdown",
   "metadata": {},
   "source": [
    "W kolumnie \"Embarked\" możemy zauważyć zduplikowane wartości, rozwiązaniem będzie sprowadzenie ich tylko do 3 wartości według założeń dotyczących zmiennych w zbiorze danych."
   ]
  },
  {
   "cell_type": "markdown",
   "metadata": {},
   "source": [
    "W kolumnie \"Ticket\" znaleziono wartość \"LINE\", która nie oznacza numeru biletu zdecydowano na usunięcie wiersza. "
   ]
  },
  {
   "cell_type": "markdown",
   "metadata": {},
   "source": [
    "W kolumnie \"Name\" zauważono niedopuczalne wartości takie jak :\"&\", \"$\" oraz cyfry, rozwiązaniem będzie usunięcie tylko tych znaków w wartościach bez konieczności usunięcia całych wierszy."
   ]
  },
  {
   "cell_type": "markdown",
   "metadata": {},
   "source": [
    "6. Rozwiązanie dostrzeżonych problemów w zbiorze"
   ]
  },
  {
   "cell_type": "markdown",
   "metadata": {},
   "source": [
    "Kolumna \"Sex\""
   ]
  },
  {
   "cell_type": "code",
   "execution_count": 332,
   "metadata": {},
   "outputs": [],
   "source": [
    "data.replace({'malef': 'male', 'mal': 'male', 'fem': 'female', 'femmale': 'female'}, inplace=True) #zamiana błędnych wartości na odpowiednie"
   ]
  },
  {
   "cell_type": "code",
   "execution_count": 333,
   "metadata": {},
   "outputs": [
    {
     "data": {
      "text/plain": [
       "array(['male', 'female'], dtype=object)"
      ]
     },
     "execution_count": 333,
     "metadata": {},
     "output_type": "execute_result"
    }
   ],
   "source": [
    "data['Sex'].unique() #wyświetlenie ponownie wartości w kolumnie Sex"
   ]
  },
  {
   "cell_type": "markdown",
   "metadata": {},
   "source": [
    "Kolumna \"Age\""
   ]
  },
  {
   "cell_type": "code",
   "execution_count": 334,
   "metadata": {},
   "outputs": [
    {
     "name": "stdout",
     "output_type": "stream",
     "text": [
      "Mediana: 24\n",
      "Liczba pustych wartości dla Age: \n",
      "0\n"
     ]
    }
   ],
   "source": [
    "mediana = data['Age'].mode() #za pomocą funkcji mode() odnaleziona zostaje mediana\n",
    "print('Mediana: ' + str(mediana[0]))\n",
    "data['Age'] = data['Age'].fillna(str(mediana[0]))\n",
    "print('Liczba pustych wartości dla Age: ')\n",
    "print(data['Age'].isnull().sum())"
   ]
  },
  {
   "cell_type": "code",
   "execution_count": 335,
   "metadata": {},
   "outputs": [],
   "source": [
    "data['Age'] = data['Age'].str.replace(\",\",\".\") #zamiana separatora \",\" na \".\""
   ]
  },
  {
   "cell_type": "code",
   "execution_count": 336,
   "metadata": {},
   "outputs": [],
   "source": [
    "data['Age'] = data['Age'].astype(float) #zmiana typu danych na float"
   ]
  },
  {
   "cell_type": "code",
   "execution_count": 337,
   "metadata": {},
   "outputs": [
    {
     "name": "stdout",
     "output_type": "stream",
     "text": [
      "Wartość max: 4435.0\n",
      "Wartość min: -12.0\n"
     ]
    }
   ],
   "source": [
    "print(\"Wartość max: \" + str(data['Age'].max())) #wyliczenie wartości maksymalnej\n",
    "print(\"Wartość min: \" + str(data['Age'].min())) #wyliczenie wartości minimalnej"
   ]
  },
  {
   "cell_type": "markdown",
   "metadata": {},
   "source": [
    "Wyświetlony wiek maksymalny i minimalny posiada błędne wartości."
   ]
  },
  {
   "cell_type": "code",
   "execution_count": 338,
   "metadata": {},
   "outputs": [
    {
     "name": "stdout",
     "output_type": "stream",
     "text": [
      "       Age  SibSp  Parch\n",
      "31    0.90      1      0\n",
      "78    0.83      0      2\n",
      "305   0.92      1      2\n",
      "469   0.75      2      1\n",
      "507  -3.00      0      0\n",
      "522 -12.00      0      0\n",
      "644   0.75      2      1\n",
      "755   0.67      1      1\n",
      "803   0.42      0      1\n",
      "831   0.83      1      1\n",
      "        Age  SibSp  Parch\n",
      "223  4435.0      0      0\n",
      "666   250.0      0      0\n"
     ]
    }
   ],
   "source": [
    "print(data[data['Age']<1][['Age', 'SibSp', 'Parch']]) #wyświetlenie wartości ujemnych\n",
    "print(data[data['Age']>120][['Age', 'SibSp', 'Parch']]) #wyświetlenie wartości większych niż 120"
   ]
  },
  {
   "cell_type": "markdown",
   "metadata": {},
   "source": [
    "W zbiorze danych możemy zauważyć dwie wartości większe niż 100, dwie wartości ujemne oraz 8 dodatnich, ale mniejszych niż 1. Wartości ujemne i większe niż 120 zostaną zamienione na miedianę. Wartości z przedziału (0, 1) zostaną zamienione na 1."
   ]
  },
  {
   "cell_type": "code",
   "execution_count": 339,
   "metadata": {},
   "outputs": [
    {
     "name": "stdout",
     "output_type": "stream",
     "text": [
      "Wiek mniejszy od 1 lub większy od 120:\n",
      "Empty DataFrame\n",
      "Columns: [Age, SibSp, Parch]\n",
      "Index: []\n",
      "Empty DataFrame\n",
      "Columns: [Age, SibSp, Parch]\n",
      "Index: []\n"
     ]
    }
   ],
   "source": [
    "data.loc[data['Age'] > 120, 'Age'] = float(mediana) # zamiana wieku powyżej 120 na medianę\n",
    "data.loc[data['Age'] < 0, 'Age'] = float(mediana) # zamiana wieku poniżej 0 na medianę\n",
    "data.loc[data['Age'] < 1, 'Age'] = float(1) # Zamiana wieku poniżej 1 na 1\n",
    "\n",
    "print('Wiek mniejszy od 1 lub większy od 120:')\n",
    "print(data[data['Age']<1][['Age', 'SibSp', 'Parch']])\n",
    "print(data[data['Age']>120][['Age', 'SibSp', 'Parch']])"
   ]
  },
  {
   "cell_type": "markdown",
   "metadata": {},
   "source": [
    "Kolumna \"Fare\""
   ]
  },
  {
   "cell_type": "code",
   "execution_count": 340,
   "metadata": {},
   "outputs": [],
   "source": [
    "data = data.copy();\n",
    "data['Fare'] = data['Fare'].str.replace(\",\",\".\") # zamiana separatora \",\" na \".\""
   ]
  },
  {
   "cell_type": "code",
   "execution_count": 341,
   "metadata": {},
   "outputs": [
    {
     "data": {
      "text/plain": [
       "array(['7.25', '71.2833', '7.925', '53.1', '8.05', '8.4583', '51.8625',\n",
       "       '21.075', '11.1333', '30.0708', '16.7', '26.55', '7.8542', '16',\n",
       "       '29.125', '13', '18', '7.225', '26', '8.0292', '31.3875', '263',\n",
       "       '7.8792', '7.8958', '27.7208', '146.5208', '7.75', '10.5',\n",
       "       '82.1708', '52', '7.2292', '11.2417', '9.475', '21', '41.5792',\n",
       "       '15.5', '21.6792', '17.8', '39.6875', '7.8', '76.7292', '61.9792',\n",
       "       '35.5', '27.75', '46.9', '83.475', '27.9', '15.2458', '8.1583',\n",
       "       '8.6625', '73.5', '14.4542', '56.4958', '7.65', '29', '12.475',\n",
       "       '9', '9.5', '7.7875', '47.1', '15.85', '34.375', '61.175',\n",
       "       '20.575', '34.6542', '63.3583', '23', '77.2875', '8.6542', '7.775',\n",
       "       '24.15', '9.825', '14.4583', '247.5208', '31.275', '7.1417',\n",
       "       '22.3583', '6.975', '7.05', '14.5', '15.0458', '26.2833', '9.2167',\n",
       "       '79.2', '6.75', '11.5', '36.75', '7.7958', '12.525', '66.6',\n",
       "       '7.3125', '61.3792', '7.7333', '69.55', '16.1', '15.75', '20.525',\n",
       "       '55', '25.925', '33.5', '30.6958', '25.4667', '28.7125', '0',\n",
       "       '15.05', '39', '22.025', '50', '8.4042', '6.4958', '10.4625',\n",
       "       '18.7875', '31', '113.275', '27', '76.2917', '90', '9.35', '13.5',\n",
       "       '7.55', '26.25', '12.275', '7.125', '-90', '52.5542', '20.2125',\n",
       "       '86.5', '512.3292', '79.65', '153.4625', '135.6333', '19.5',\n",
       "       '29.7', '77.9583', '20.25', '78.85', '91.0792', '12.875', '8.85',\n",
       "       '151.55', '30.5', '23.25', '12.35', '110.8833', '108.9', '24',\n",
       "       '56.9292', '83.1583', '262.375', '14', '164.8667', '134.5',\n",
       "       '6.2375', '57.9792', '28.5', '133.65', '15.9', '9.225', '35',\n",
       "       '75.25', '69.3', '55.4417', '211.5', '4.0125', '227.525',\n",
       "       '15.7417', '7.7292', '12', '120', '12.65', '18.75', '6.8583',\n",
       "       '32.5', '7.875', '14.4', '55.9', '8.1125', '81.8583', '19.2583',\n",
       "       '19.9667', '89.1042', '38.5', '7.725', '13.7917', '9.8375',\n",
       "       '7.0458', '7.5208', '12.2875', '9.5875', '15.9a', '49.5042',\n",
       "       '78.2667', '15.1', '7.6292', '22.525', '26.2875', '59.4', '7.4958',\n",
       "       '34.0208', '221.7792', '106.425', '49.5', '71', '13.8625',\n",
       "       '7.8292', '39.6', '17.4', '51.4792', '26.3875', '30', '40.125',\n",
       "       '8.7125', '15', '33', '42.4', '15.55', '65', '32.3208', '7.0542',\n",
       "       '8.4333', '25.5875', '9.8417', '8.1375', '10.1708', '211.3375',\n",
       "       '57', '13.4167', '7.7417', '9.4833', '7.7375', '8.3625', '23.45',\n",
       "       '25.9292', '8.6833', '8.5167', '7.8875', '37.0042', '6.45', '93.5',\n",
       "       '6.95', '8.3', '6.4375', '39.4', '14.1083', '13.8583', '50.4958',\n",
       "       '5', '9.8458', '10.5167'], dtype=object)"
      ]
     },
     "execution_count": 341,
     "metadata": {},
     "output_type": "execute_result"
    }
   ],
   "source": [
    "data['Fare'].unique()"
   ]
  },
  {
   "cell_type": "code",
   "execution_count": 342,
   "metadata": {},
   "outputs": [],
   "source": [
    "data = data[data.Fare != '-90'] #usunięcie całego wiersza gdzie wartość w kolumnie Fare=-90"
   ]
  },
  {
   "cell_type": "code",
   "execution_count": 343,
   "metadata": {},
   "outputs": [
    {
     "data": {
      "text/plain": [
       "array(['7.25', '71.2833', '7.925', '53.1', '8.05', '8.4583', '51.8625',\n",
       "       '21.075', '11.1333', '30.0708', '16.7', '26.55', '7.8542', '16',\n",
       "       '29.125', '13', '18', '7.225', '26', '8.0292', '31.3875', '263',\n",
       "       '7.8792', '7.8958', '27.7208', '146.5208', '7.75', '10.5',\n",
       "       '82.1708', '52', '7.2292', '11.2417', '9.475', '21', '41.5792',\n",
       "       '15.5', '21.6792', '17.8', '39.6875', '7.8', '76.7292', '61.9792',\n",
       "       '35.5', '27.75', '46.9', '83.475', '27.9', '15.2458', '8.1583',\n",
       "       '8.6625', '73.5', '14.4542', '56.4958', '7.65', '29', '12.475',\n",
       "       '9', '9.5', '7.7875', '47.1', '15.85', '34.375', '61.175',\n",
       "       '20.575', '34.6542', '63.3583', '23', '77.2875', '8.6542', '7.775',\n",
       "       '24.15', '9.825', '14.4583', '247.5208', '31.275', '7.1417',\n",
       "       '22.3583', '6.975', '7.05', '14.5', '15.0458', '26.2833', '9.2167',\n",
       "       '79.2', '6.75', '11.5', '36.75', '7.7958', '12.525', '66.6',\n",
       "       '7.3125', '61.3792', '7.7333', '69.55', '16.1', '15.75', '20.525',\n",
       "       '55', '25.925', '33.5', '30.6958', '25.4667', '28.7125', '0',\n",
       "       '15.05', '39', '22.025', '50', '8.4042', '6.4958', '10.4625',\n",
       "       '18.7875', '31', '113.275', '27', '76.2917', '90', '9.35', '13.5',\n",
       "       '7.55', '26.25', '12.275', '7.125', '52.5542', '20.2125', '86.5',\n",
       "       '512.3292', '79.65', '153.4625', '135.6333', '19.5', '29.7',\n",
       "       '77.9583', '20.25', '78.85', '91.0792', '12.875', '8.85', '151.55',\n",
       "       '30.5', '23.25', '12.35', '110.8833', '108.9', '24', '56.9292',\n",
       "       '83.1583', '262.375', '14', '164.8667', '134.5', '6.2375',\n",
       "       '57.9792', '28.5', '133.65', '15.9', '9.225', '35', '75.25',\n",
       "       '69.3', '55.4417', '211.5', '4.0125', '227.525', '15.7417',\n",
       "       '7.7292', '12', '120', '12.65', '18.75', '6.8583', '32.5', '7.875',\n",
       "       '14.4', '55.9', '8.1125', '81.8583', '19.2583', '19.9667',\n",
       "       '89.1042', '38.5', '7.725', '13.7917', '9.8375', '7.0458',\n",
       "       '7.5208', '12.2875', '9.5875', '15.9a', '49.5042', '78.2667',\n",
       "       '15.1', '7.6292', '22.525', '26.2875', '59.4', '7.4958', '34.0208',\n",
       "       '221.7792', '106.425', '49.5', '71', '13.8625', '7.8292', '39.6',\n",
       "       '17.4', '51.4792', '26.3875', '30', '40.125', '8.7125', '15', '33',\n",
       "       '42.4', '15.55', '65', '32.3208', '7.0542', '8.4333', '25.5875',\n",
       "       '9.8417', '8.1375', '10.1708', '211.3375', '57', '13.4167',\n",
       "       '7.7417', '9.4833', '7.7375', '8.3625', '23.45', '25.9292',\n",
       "       '8.6833', '8.5167', '7.8875', '37.0042', '6.45', '93.5', '6.95',\n",
       "       '8.3', '6.4375', '39.4', '14.1083', '13.8583', '50.4958', '5',\n",
       "       '9.8458', '10.5167'], dtype=object)"
      ]
     },
     "execution_count": 343,
     "metadata": {},
     "output_type": "execute_result"
    }
   ],
   "source": [
    "data['Fare'].unique() #ponowne wyświetlenie wartości kolumny Fare, możemy zauważyć brak wartości \"-90\""
   ]
  },
  {
   "cell_type": "code",
   "execution_count": 344,
   "metadata": {},
   "outputs": [
    {
     "name": "stdout",
     "output_type": "stream",
     "text": [
      "<class 'pandas.core.frame.DataFrame'>\n",
      "Int64Index: 889 entries, 0 to 891\n",
      "Data columns (total 11 columns):\n",
      " #   Column       Non-Null Count  Dtype  \n",
      "---  ------       --------------  -----  \n",
      " 0   PassengerId  889 non-null    int64  \n",
      " 1   Survived     889 non-null    int64  \n",
      " 2   Pclass       889 non-null    int64  \n",
      " 3   Name         889 non-null    object \n",
      " 4   Sex          889 non-null    object \n",
      " 5   Age          889 non-null    float64\n",
      " 6   SibSp        889 non-null    int64  \n",
      " 7   Parch        889 non-null    int64  \n",
      " 8   Ticket       889 non-null    object \n",
      " 9   Fare         889 non-null    object \n",
      " 10  Embarked     889 non-null    object \n",
      "dtypes: float64(1), int64(5), object(5)\n",
      "memory usage: 83.3+ KB\n"
     ]
    }
   ],
   "source": [
    "data.info() #dla sprawdzenia wyświetlamy ponownie podsumowanie naszego zbioru widzimy, że został \"uszczuplony\" o 1 wiersz"
   ]
  },
  {
   "cell_type": "code",
   "execution_count": 345,
   "metadata": {},
   "outputs": [
    {
     "name": "stdout",
     "output_type": "stream",
     "text": [
      "489    15.9a\n",
      "Name: Fare, dtype: object\n"
     ]
    }
   ],
   "source": [
    "titanicbf = data['Fare'][data['Fare'].str.contains('[a-zA-Z@_!#$%^&*()<>?/|}{~:]')] #wyszukanie wartości nieliczbowej\n",
    "\n",
    "print(titanicbf) #wyświetlenie znalezionej wartości nieliczbowej"
   ]
  },
  {
   "cell_type": "code",
   "execution_count": 346,
   "metadata": {
    "scrolled": true
   },
   "outputs": [
    {
     "name": "stdout",
     "output_type": "stream",
     "text": [
      "489    15.9\n",
      "Name: Fare, dtype: object\n"
     ]
    }
   ],
   "source": [
    "data.loc[data.index == 489, 'Fare'] = '15.9' #zamiana wartości nieliczbowej na wartość liczbową \"15,9\"\n",
    "\n",
    "print(data['Fare'][data.index == 489]) #wyświetlenie wartości o wskazanym indeksie"
   ]
  },
  {
   "cell_type": "markdown",
   "metadata": {},
   "source": [
    "Kolumna \"Embarked\""
   ]
  },
  {
   "cell_type": "code",
   "execution_count": 347,
   "metadata": {},
   "outputs": [],
   "source": [
    "data.replace({'So': 'S', 'Co': 'C', 'Qe': 'Q'}, inplace=True) #zamiana zduplikowanych wartości"
   ]
  },
  {
   "cell_type": "code",
   "execution_count": 348,
   "metadata": {},
   "outputs": [
    {
     "data": {
      "text/plain": [
       "array(['S', 'C', 'Q'], dtype=object)"
      ]
     },
     "execution_count": 348,
     "metadata": {},
     "output_type": "execute_result"
    }
   ],
   "source": [
    "data['Embarked'].unique() #ponowne wyświetlenie wartości w kolumnie Embarked"
   ]
  },
  {
   "cell_type": "markdown",
   "metadata": {},
   "source": [
    "Kolumna \"Ticket\""
   ]
  },
  {
   "cell_type": "code",
   "execution_count": 349,
   "metadata": {},
   "outputs": [],
   "source": [
    "data = data[data.Ticket != 'LINE'] #usunięcie wierszy gdzie wartość w kolumnie Ticket=LINE"
   ]
  },
  {
   "cell_type": "code",
   "execution_count": 350,
   "metadata": {},
   "outputs": [
    {
     "data": {
      "text/plain": [
       "array(['A/5 21171', 'PC 17599', 'STON/O2. 3101282', '113803', '373450',\n",
       "       '330877', '17463', '349909', '347742', '237736', 'PP 9549',\n",
       "       '113783', 'A/5. 2151', '350406', '248706', '382652', '244373',\n",
       "       '345763', '2649', '239865', '248698', '330923', '347077', '2631',\n",
       "       '19950', '330959', '349216', 'PC 17601', 'PC 17569', '335677',\n",
       "       'C.A. 24579', 'PC 17604', '113789', '2677', 'A./5. 2152', '345764',\n",
       "       '2651', '7546', '11668', '349253', 'SC/Paris 2123', '330958',\n",
       "       'S.C./A.4. 23567', '370371', '14311', '2662', '349237', '3101295',\n",
       "       'A/4. 39886', 'PC 17572', '2926', '113509', '19947', 'C.A. 31026',\n",
       "       '2697', 'C.A. 34651', 'CA 2144', '2669', '36973', '347088',\n",
       "       'PC 17605', '2661', 'C.A. 29395', 'S.P. 3464', '3101281', '315151',\n",
       "       'C.A. 33111', 'S.O.C. 14879', '2680', '1601', '348123', '349208',\n",
       "       '374746', '248738', '364516', '345767', '345779', '330932',\n",
       "       '113059', 'SO/C 14885', '3101278', 'W./C. 6608', 'SOTON/OQ 392086',\n",
       "       '343275', '343276', '347466', 'W.E.P. 5734', 'C.A. 2315', '364500',\n",
       "       '374910', 'PC 17754', 'PC 17759', '231919', '244367', '349245',\n",
       "       '349215', '35281', '7540', '3101276', '349207', '343120', '312991',\n",
       "       '349249', '371110', '110465', '2665', '324669', '4136', '2627',\n",
       "       'STON/O 2. 3101294', '370369', 'PC 17558', '347082', 'A4. 54510',\n",
       "       '27267', '370372', 'C 17369', '2668', '347061', '349241',\n",
       "       'SOTON/O.Q. 3101307', 'A/5. 3337', '228414', 'C.A. 29178',\n",
       "       'SC/PARIS 2133', '11752', '7534', 'PC 17593', '2678', '347081',\n",
       "       'STON/O2. 3101279', '365222', '231945', 'C.A. 33112', '350043',\n",
       "       '230080', '244310', 'S.O.P. 1166', '113776', 'A.5. 11206',\n",
       "       'A/5. 851', 'Fa 265302', 'PC 17597', '35851', 'SOTON/OQ 392090',\n",
       "       '315037', 'CA. 2343', '371362', 'C.A. 33595', '347068', '315093',\n",
       "       '363291', '113505', 'PC 17318', '111240', 'STON/O 2. 3101280',\n",
       "       '17764', '350404', '4133', 'PC 17595', '250653', 'SC/PARIS 2131',\n",
       "       '230136', '315153', '113767', '370365', '111428', '364849',\n",
       "       '349247', '234604', '28424', '350046', 'PC 17610', '368703',\n",
       "       '4579', '370370', '248747', '345770', '3101264', '2628',\n",
       "       'A/5 3540', '347054', '2699', '367231', '112277',\n",
       "       'SOTON/O.Q. 3101311', 'F.C.C. 13528', 'A/5 21174', '250646',\n",
       "       '367229', '35273', 'STON/O2. 3101283', '243847', '11813',\n",
       "       'W/C 14208', 'SOTON/OQ 392089', '220367', '21440', '349234',\n",
       "       '19943', 'PP 4348', 'SW/PP 751', 'A/5 21173', '236171', '347067',\n",
       "       '237442', 'C.A. 29566', 'W./C. 6609', '26707', 'C.A. 31921',\n",
       "       '28665', 'SCO/W 1585', '367230', 'W./C. 14263',\n",
       "       'STON/O 2. 3101275', '2694', '347071', '250649', '11751', '244252',\n",
       "       '362316', '113514', 'A/5. 3336', '370129', '2650', 'PC 17585',\n",
       "       '110152', 'PC 17755', '230433', '384461', '110413', '112059',\n",
       "       '382649', 'C.A. 17248', '347083', 'PC 17582', 'PC 17760', '113798',\n",
       "       '250644', 'PC 17596', '370375', '13502', '347073', '239853',\n",
       "       'C.A. 2673', '336439', '347464', '345778', 'A/5. 10482', '113056',\n",
       "       '349239', '345774', '349206', '237798', '370373', '19877', '11967',\n",
       "       'SC/Paris 2163', '349236', '349233', 'PC 17612', '2693', '113781',\n",
       "       '19988', '9234', '367226', '226593', 'A/5 2466', '17421',\n",
       "       'PC 17758', 'P/PP 3381', 'PC 17485', '11767', 'PC 17608', '250651',\n",
       "       '349243', 'F.C.C. 13529', '347470', '29011', '36928', '16966',\n",
       "       'A/5 21172', '349219', '234818', '345364', '28551', '111361',\n",
       "       '113043', 'PC 17611', '349225', '7598', '113784', '248740',\n",
       "       '244361', '229236', '248733', '31418', '386525', 'C.A. 37671',\n",
       "       '315088', '7267', '113510', '2695', '2647', '345783', '237671',\n",
       "       '330931', '330980', 'SC/PARIS 2167', '2691', 'SOTON/O.Q. 3101310',\n",
       "       'C 7076', '110813', '2626', '14313', 'PC 17477', '11765',\n",
       "       '3101267', '323951', 'C 7077', '113503', '2648', '347069',\n",
       "       'PC 17757', '2653', 'STON/O 2. 3101293', '349227', '27849',\n",
       "       '367655', 'SC 1748', '113760', '350034', '3101277', '350052',\n",
       "       '350407', '28403', '244278', '240929', 'STON/O 2. 3101289',\n",
       "       '341826', '4137', '315096', '28664', '347064', '29106', '312992',\n",
       "       '349222', '394140', '19928', 'STON/O 2. 3101269', '343095',\n",
       "       '28220', '250652', '28228', '345773', '349254', 'A/5. 13032',\n",
       "       '315082', '347080', 'A/4. 34244', '2003', '250655', '364851',\n",
       "       'SOTON/O.Q. 392078', '110564', '376564', 'SC/AH 3085',\n",
       "       'STON/O 2. 3101274', '13507', 'C.A. 18723', '345769', '347076',\n",
       "       '230434', '65306', '33638', '113794', '2666', '113786', '65303',\n",
       "       '113051', '17453', 'A/5 2817', '349240', '13509', '17464',\n",
       "       'F.C.C. 13531', '371060', '19952', '364506', '111320', '234360',\n",
       "       'A/S 2816', 'SOTON/O.Q. 3101306', '113792', '36209', '323592',\n",
       "       '315089', 'SC/AH Basle 541', '7553', '31027', '3460', '350060',\n",
       "       '3101298', '239854', 'A/5 3594', '4134', '11771', 'A.5. 18509',\n",
       "       '65304', 'SOTON/OQ 3101317', '113787', 'PC 17609', 'A/4 45380',\n",
       "       '36947', 'C.A. 6212', '350035', '315086', '364846', '330909',\n",
       "       '4135', '26360', '111427', 'C 4001', '382651', 'SOTON/OQ 3101316',\n",
       "       'PC 17473', 'PC 17603', '349209', '36967', 'C.A. 34260', '226875',\n",
       "       '349242', '349252', '2624', '2700', '367232', 'W./C. 14258',\n",
       "       'PC 17483', '3101296', '29104', '2641', '2690', '315084', '113050',\n",
       "       'PC 17761', '364498', '13568', 'WE/P 5735', '2908', '693',\n",
       "       'SC/PARIS 2146', '244358', '330979', '2620', '347085', '113807',\n",
       "       '11755', '345572', '372622', '349251', '218629', 'SOTON/OQ 392082',\n",
       "       'SOTON/O.Q. 392087', 'A/4 48871', '349205', '2686', '350417',\n",
       "       'S.W./PP 752', '11769', 'PC 17474', '14312', 'A/4. 20589',\n",
       "       '358585', '243880', '2689', 'STON/O 2. 3101286', '237789', '13049',\n",
       "       '3411', '237565', '13567', '14973', 'A./5. 3235',\n",
       "       'STON/O 2. 3101273', 'A/5 3902', '364848', 'SC/AH 29037', '248727',\n",
       "       '2664', '349214', '113796', '364511', '111426', '349910', '349246',\n",
       "       '113804', 'SOTON/O.Q. 3101305', '370377', '364512', '220845',\n",
       "       '31028', '2659', '11753', '350029', '54636', '36963', '219533',\n",
       "       '349224', '334912', '27042', '347743', '13214', '112052', '237668',\n",
       "       'STON/O 2. 3101292', '350050', '349231', '13213', 'S.O./P.P. 751',\n",
       "       'CA. 2314', '349221', '8475', '330919', '365226', '349223',\n",
       "       '29751', '2623', '5727', '349210', 'STON/O 2. 3101285', '234686',\n",
       "       '312993', 'A/5 3536', '19996', '29750', 'F.C. 12750', 'C.A. 24580',\n",
       "       '244270', '239856', '349912', '342826', '4138', '330935', '6563',\n",
       "       '349228', '350036', '24160', '17474', '349256', '2672', '113800',\n",
       "       '248731', '363592', '35852', '348121', 'PC 17475', '36864',\n",
       "       '350025', '223596', 'PC 17476', 'PC 17482', '113028', '7545',\n",
       "       '250647', '348124', '34218', '36568', '347062', '350048', '12233',\n",
       "       '250643', '113806', '315094', '36866', '236853',\n",
       "       'STON/O2. 3101271', '239855', '28425', '233639', '349201',\n",
       "       '349218', '16988', '376566', 'STON/O 2. 3101288', '250648',\n",
       "       '113773', '335097', '29103', '392096', '345780', '349204',\n",
       "       '350042', '29108', '363294', 'SOTON/O2 3101272', '2663', '347074',\n",
       "       '112379', '364850', '8471', '345781', '350047', 'S.O./P.P. 3',\n",
       "       '2674', '29105', '347078', '383121', '36865', '2687', '113501',\n",
       "       'W./C. 6607', 'SOTON/O.Q. 3101312', '374887', '3101265', '12460',\n",
       "       'PC 17600', '349203', '28213', '17465', '349244', '2685', '2625',\n",
       "       '347089', '347063', '112050', '347087', '248723', '3474', '28206',\n",
       "       '364499', '112058', 'STON/O2. 3101290', 'S.C./PARIS 2079',\n",
       "       'C 7075', '12749', '315098', '19972', '368323', '367228', '2671',\n",
       "       '347468', '2223', 'PC 17756', '315097', '392092', '11774',\n",
       "       'SOTON/O2 3101287', '2683', '315090', 'C.A. 5547', '349213',\n",
       "       '347060', 'PC 17592', '392091', '113055', '2629', '350026',\n",
       "       '28134', '17466', '233866', '236852', 'SC/PARIS 2149', 'PC 17590',\n",
       "       '345777', '349248', '695', '345765', '2667', '349212', '349217',\n",
       "       '349257', '7552', 'C.A./SOTON 34068', 'SOTON/OQ 392076', '211536',\n",
       "       '112053', '111369', '370376'], dtype=object)"
      ]
     },
     "execution_count": 350,
     "metadata": {},
     "output_type": "execute_result"
    }
   ],
   "source": [
    "data['Ticket'].unique() #ponowne wyświetlenie wartości kolumny Ticket, możemy zauważyć brak wartości \"LINE\""
   ]
  },
  {
   "cell_type": "markdown",
   "metadata": {},
   "source": [
    "Kolumna \"Name\""
   ]
  },
  {
   "cell_type": "code",
   "execution_count": 351,
   "metadata": {},
   "outputs": [
    {
     "name": "stdout",
     "output_type": "stream",
     "text": [
      "     PassengerId  Survived  Pclass                                Name  \\\n",
      "10            11         1       3  Sandstrom, Miss. Marguerite Ru&5$$   \n",
      "13            11         1       3  Sandstrom, Miss. Marguerite Ru&5$$   \n",
      "23            11         1       3  Sandstrom, Miss. Marguerite Ru&5$$   \n",
      "406          407         0       3    Widegren, Mr. Carl/Charles Peter   \n",
      "\n",
      "        Sex   Age  SibSp  Parch   Ticket  Fare Embarked  \n",
      "10   female   4.0      1      1  PP 9549  16.7        S  \n",
      "13   female   4.0      1      1  PP 9549  16.7        S  \n",
      "23   female   4.0      1      1  PP 9549  16.7        S  \n",
      "406    male  51.0      0      0   347064  7.75        S  \n"
     ]
    }
   ],
   "source": [
    "data = data.copy()\n",
    "titanicbn = data[data['Name'].str.contains('[@_!#$%^&*<>?/\\|}{~:]')] #użycie metody contains() do wyszukania znaków specjalnych\n",
    "\n",
    "print(titanicbn)"
   ]
  },
  {
   "cell_type": "markdown",
   "metadata": {},
   "source": [
    "Przy wyświetleniu wartości ze znakami specjalnymi z kolumny \"Name\" zobaczyliśmy, że jeden rekord posiada zdublowane wartości."
   ]
  },
  {
   "cell_type": "code",
   "execution_count": 352,
   "metadata": {},
   "outputs": [
    {
     "name": "stdout",
     "output_type": "stream",
     "text": [
      "count                         882\n",
      "unique                        882\n",
      "top       Lefebre, Miss. Mathilde\n",
      "freq                            1\n",
      "Name: Name, dtype: object\n"
     ]
    }
   ],
   "source": [
    "data = data.drop_duplicates(inplace=False) #usunięcie duplikatów\n",
    "\n",
    "print(data['Name'].describe(include=['object']))"
   ]
  },
  {
   "cell_type": "markdown",
   "metadata": {},
   "source": [
    "Ponownie wyświetlamy wartości ze znakami specjalnymi możemy zobaczyć, że problem został usunięty."
   ]
  },
  {
   "cell_type": "code",
   "execution_count": 353,
   "metadata": {},
   "outputs": [
    {
     "name": "stdout",
     "output_type": "stream",
     "text": [
      "     PassengerId  Survived  Pclass                                Name  \\\n",
      "10            11         1       3  Sandstrom, Miss. Marguerite Ru&5$$   \n",
      "406          407         0       3    Widegren, Mr. Carl/Charles Peter   \n",
      "\n",
      "        Sex   Age  SibSp  Parch   Ticket  Fare Embarked  \n",
      "10   female   4.0      1      1  PP 9549  16.7        S  \n",
      "406    male  51.0      0      0   347064  7.75        S  \n"
     ]
    }
   ],
   "source": [
    "data = data.copy()\n",
    "titanicbn = data[data['Name'].str.contains('[@_!#$%^&*<>?/\\|}{~:]')] #użycie metody contains() do wyszukania znaków specjalnych\n",
    "\n",
    "print(titanicbn)"
   ]
  },
  {
   "cell_type": "code",
   "execution_count": 354,
   "metadata": {},
   "outputs": [],
   "source": [
    "data['Name'] = data['Name'].str.replace('&', '') #usunięcie \"&\" z wartości w kolumnie Name"
   ]
  },
  {
   "cell_type": "code",
   "execution_count": 355,
   "metadata": {},
   "outputs": [],
   "source": [
    "data['Name'] = data['Name'].str.replace('$', '') #usunięcie \"$\" z wartości w kolumnie Name"
   ]
  },
  {
   "cell_type": "code",
   "execution_count": 356,
   "metadata": {},
   "outputs": [],
   "source": [
    "data['Name'] = data['Name'].str.replace('5', '') #usunięcie \"5\" z wartości w kolumnie Name"
   ]
  },
  {
   "cell_type": "code",
   "execution_count": 357,
   "metadata": {},
   "outputs": [
    {
     "name": "stdout",
     "output_type": "stream",
     "text": [
      "10    Sandstrom, Miss. Marguerite Ru\n",
      "Name: Name, dtype: object\n"
     ]
    }
   ],
   "source": [
    "print(data['Name'][data.index == 10]) #wyświetlenie wiersza o podanym indeksie w celu zweryfikowania zmian"
   ]
  },
  {
   "cell_type": "markdown",
   "metadata": {},
   "source": [
    "7. Zapis poprawionych danych do pliku."
   ]
  },
  {
   "cell_type": "code",
   "execution_count": 358,
   "metadata": {},
   "outputs": [],
   "source": [
    "titanicc = data.copy();"
   ]
  },
  {
   "cell_type": "code",
   "execution_count": 359,
   "metadata": {},
   "outputs": [],
   "source": [
    "titanicc.to_csv(r'TitanicCleaned.tsv', sep='\\t')"
   ]
  },
  {
   "cell_type": "markdown",
   "metadata": {},
   "source": [
    "Wykonała: Magda Dytkowicz."
   ]
  }
 ],
 "metadata": {
  "kernelspec": {
   "display_name": "Python 3",
   "language": "python",
   "name": "python3"
  },
  "language_info": {
   "codemirror_mode": {
    "name": "ipython",
    "version": 3
   },
   "file_extension": ".py",
   "mimetype": "text/x-python",
   "name": "python",
   "nbconvert_exporter": "python",
   "pygments_lexer": "ipython3",
   "version": "3.8.5"
  }
 },
 "nbformat": 4,
 "nbformat_minor": 4
}
